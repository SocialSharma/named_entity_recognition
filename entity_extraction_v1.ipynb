{
 "cells": [
  {
   "cell_type": "code",
   "execution_count": 126,
   "metadata": {},
   "outputs": [],
   "source": [
    "import pandas as pd\n",
    "import spacy\n",
    "from spacy import displacy\n",
    "from tqdm import tqdm\n",
    "tqdm.pandas()"
   ]
  },
  {
   "cell_type": "markdown",
   "metadata": {},
   "source": [
    "## Step 1: Inspect data"
   ]
  },
  {
   "cell_type": "code",
   "execution_count": 302,
   "metadata": {},
   "outputs": [
    {
     "data": {
      "text/html": [
       "<div>\n",
       "<style scoped>\n",
       "    .dataframe tbody tr th:only-of-type {\n",
       "        vertical-align: middle;\n",
       "    }\n",
       "\n",
       "    .dataframe tbody tr th {\n",
       "        vertical-align: top;\n",
       "    }\n",
       "\n",
       "    .dataframe thead th {\n",
       "        text-align: right;\n",
       "    }\n",
       "</style>\n",
       "<table border=\"1\" class=\"dataframe\">\n",
       "  <thead>\n",
       "    <tr style=\"text-align: right;\">\n",
       "      <th></th>\n",
       "      <th>queries</th>\n",
       "    </tr>\n",
       "  </thead>\n",
       "  <tbody>\n",
       "    <tr>\n",
       "      <th>0</th>\n",
       "      <td>i need to reschedule my appointment which was ...</td>\n",
       "    </tr>\n",
       "    <tr>\n",
       "      <th>1</th>\n",
       "      <td>this is the third time i made an appointment w...</td>\n",
       "    </tr>\n",
       "    <tr>\n",
       "      <th>...</th>\n",
       "      <td>...</td>\n",
       "    </tr>\n",
       "    <tr>\n",
       "      <th>4620</th>\n",
       "      <td>hola me podrÌ£åÁn cotizar</td>\n",
       "    </tr>\n",
       "    <tr>\n",
       "      <th>4621</th>\n",
       "      <td>can you install the resonator for me ?</td>\n",
       "    </tr>\n",
       "  </tbody>\n",
       "</table>\n",
       "<p>4622 rows × 1 columns</p>\n",
       "</div>"
      ],
      "text/plain": [
       "                                                queries\n",
       "0     i need to reschedule my appointment which was ...\n",
       "1     this is the third time i made an appointment w...\n",
       "...                                                 ...\n",
       "4620                          hola me podrÌ£åÁn cotizar\n",
       "4621             can you install the resonator for me ?\n",
       "\n",
       "[4622 rows x 1 columns]"
      ]
     },
     "metadata": {},
     "output_type": "display_data"
    }
   ],
   "source": [
    "entity_df = pd.read_csv('queries.csv', header=None)\n",
    "entity_df.columns = ['queries']\n",
    "pd.set_option('display.max_rows', 5)\n",
    "display(entity_df)"
   ]
  },
  {
   "cell_type": "code",
   "execution_count": 118,
   "metadata": {},
   "outputs": [],
   "source": [
    "nlp = spacy.load('en_core_web_lg')"
   ]
  },
  {
   "cell_type": "code",
   "execution_count": 312,
   "metadata": {},
   "outputs": [],
   "source": [
    "def extract_named_entities(query):\n",
    "    return {ent.text: [ent.start_char, ent.end_char, ent.label_] for ent in nlp(query).ents}\n",
    "def show_named_entities(idx, style='ent', df=entity_df):\n",
    "    query = df['queries'][idx]\n",
    "    displacy.render(nlp(query), style=style, jupyter=True)"
   ]
  },
  {
   "cell_type": "code",
   "execution_count": 313,
   "metadata": {},
   "outputs": [
    {
     "name": "stdout",
     "output_type": "stream",
     "text": [
      "[('11/24', 'CARDINAL'), ('1267154747', 'DATE')]\n"
     ]
    },
    {
     "data": {
      "text/html": [
       "<div class=\"entities\" style=\"line-height: 2.5\">i need to reschedule my appointment which was originally on \n",
       "<mark class=\"entity\" style=\"background: #e4e7d2; padding: 0.45em 0.6em; margin: 0 0.25em; line-height: 1; border-radius: 0.35em; box-decoration-break: clone; -webkit-box-decoration-break: clone\">\n",
       "    11/24\n",
       "    <span style=\"font-size: 0.8em; font-weight: bold; line-height: 1; border-radius: 0.35em; text-transform: uppercase; vertical-align: middle; margin-left: 0.5rem\">CARDINAL</span>\n",
       "</mark>\n",
       " . order number  \n",
       "<mark class=\"entity\" style=\"background: #bfe1d9; padding: 0.45em 0.6em; margin: 0 0.25em; line-height: 1; border-radius: 0.35em; box-decoration-break: clone; -webkit-box-decoration-break: clone\">\n",
       "    1267154747\n",
       "    <span style=\"font-size: 0.8em; font-weight: bold; line-height: 1; border-radius: 0.35em; text-transform: uppercase; vertical-align: middle; margin-left: 0.5rem\">DATE</span>\n",
       "</mark>\n",
       " . i was there for my appointment  my tires were not . the location was supposed to call me when the tires arrived which they never did . i 'd like to reschedule my appointment . i 'd also like some type of compensation for not only wasting my time on the appointment date but for the lack of follow up by the location .</div>"
      ],
      "text/plain": [
       "<IPython.core.display.HTML object>"
      ]
     },
     "metadata": {},
     "output_type": "display_data"
    }
   ],
   "source": [
    "mini_entity_df = entity_df[:5]\n",
    "query = mini_entity_df['queries'][0]\n",
    "print(extract_entities(query))\n",
    "show_spacy_entities(0)"
   ]
  },
  {
   "cell_type": "code",
   "execution_count": 314,
   "metadata": {},
   "outputs": [
    {
     "name": "stderr",
     "output_type": "stream",
     "text": [
      "/Users/sharma/miniconda3/envs/avaamo/lib/python3.6/site-packages/ipykernel_launcher.py:2: SettingWithCopyWarning: \n",
      "A value is trying to be set on a copy of a slice from a DataFrame.\n",
      "Try using .loc[row_indexer,col_indexer] = value instead\n",
      "\n",
      "See the caveats in the documentation: http://pandas.pydata.org/pandas-docs/stable/indexing.html#indexing-view-versus-copy\n",
      "  \n"
     ]
    }
   ],
   "source": [
    "def add_named_entities(df=entity_df):\n",
    "    df['named_entities'] = df['queries'].apply(extract_named_entities)\n",
    "add_named_entities(mini_entity_df)"
   ]
  },
  {
   "cell_type": "code",
   "execution_count": 315,
   "metadata": {},
   "outputs": [
    {
     "data": {
      "text/html": [
       "<div>\n",
       "<style scoped>\n",
       "    .dataframe tbody tr th:only-of-type {\n",
       "        vertical-align: middle;\n",
       "    }\n",
       "\n",
       "    .dataframe tbody tr th {\n",
       "        vertical-align: top;\n",
       "    }\n",
       "\n",
       "    .dataframe thead th {\n",
       "        text-align: right;\n",
       "    }\n",
       "</style>\n",
       "<table border=\"1\" class=\"dataframe\">\n",
       "  <thead>\n",
       "    <tr style=\"text-align: right;\">\n",
       "      <th></th>\n",
       "      <th>queries</th>\n",
       "      <th>named_entities</th>\n",
       "    </tr>\n",
       "  </thead>\n",
       "  <tbody>\n",
       "    <tr>\n",
       "      <th>0</th>\n",
       "      <td>i need to reschedule my appointment which was ...</td>\n",
       "      <td>{'11/24': [60, 65, 'CARDINAL'], '1267154747': ...</td>\n",
       "    </tr>\n",
       "    <tr>\n",
       "      <th>1</th>\n",
       "      <td>this is the third time i made an appointment w...</td>\n",
       "      <td>{'third': [12, 17, 'ORDINAL'], 'ny': [70, 72, ...</td>\n",
       "    </tr>\n",
       "    <tr>\n",
       "      <th>2</th>\n",
       "      <td>why if i make a appointment for 8 am do they t...</td>\n",
       "      <td>{'8': [32, 33, 'DATE'], '30': [159, 161, 'QUAN...</td>\n",
       "    </tr>\n",
       "    <tr>\n",
       "      <th>3</th>\n",
       "      <td>called pasadena store sunday am . asked how lo...</td>\n",
       "      <td>{'sunday': [22, 28, 'DATE'], 'am': [29, 31, 'T...</td>\n",
       "    </tr>\n",
       "    <tr>\n",
       "      <th>4</th>\n",
       "      <td>is it normal to have a 2 pm appointment for ti...</td>\n",
       "      <td>{'2 pm': [23, 27, 'TIME'], '2 hours': [203, 21...</td>\n",
       "    </tr>\n",
       "  </tbody>\n",
       "</table>\n",
       "</div>"
      ],
      "text/plain": [
       "                                             queries  \\\n",
       "0  i need to reschedule my appointment which was ...   \n",
       "1  this is the third time i made an appointment w...   \n",
       "2  why if i make a appointment for 8 am do they t...   \n",
       "3  called pasadena store sunday am . asked how lo...   \n",
       "4  is it normal to have a 2 pm appointment for ti...   \n",
       "\n",
       "                                      named_entities  \n",
       "0  {'11/24': [60, 65, 'CARDINAL'], '1267154747': ...  \n",
       "1  {'third': [12, 17, 'ORDINAL'], 'ny': [70, 72, ...  \n",
       "2  {'8': [32, 33, 'DATE'], '30': [159, 161, 'QUAN...  \n",
       "3  {'sunday': [22, 28, 'DATE'], 'am': [29, 31, 'T...  \n",
       "4  {'2 pm': [23, 27, 'TIME'], '2 hours': [203, 21...  "
      ]
     },
     "metadata": {},
     "output_type": "display_data"
    }
   ],
   "source": [
    "display(mini_entity_df)"
   ]
  },
  {
   "cell_type": "markdown",
   "metadata": {},
   "source": [
    "## Step 2: Extract all nouns"
   ]
  },
  {
   "cell_type": "code",
   "execution_count": 286,
   "metadata": {},
   "outputs": [],
   "source": [
    "from spacy.displacy.render import DependencyRenderer, EntityRenderer\n",
    "from spacy.displacy import parse_deps, parse_ents"
   ]
  },
  {
   "cell_type": "code",
   "execution_count": 287,
   "metadata": {},
   "outputs": [],
   "source": [
    "??displacy"
   ]
  },
  {
   "cell_type": "code",
   "execution_count": 288,
   "metadata": {},
   "outputs": [],
   "source": [
    "??EntityRenderer"
   ]
  },
  {
   "cell_type": "code",
   "execution_count": 289,
   "metadata": {},
   "outputs": [],
   "source": [
    "??DependencyRenderer"
   ]
  },
  {
   "cell_type": "code",
   "execution_count": 202,
   "metadata": {},
   "outputs": [],
   "source": [
    "??parse_deps"
   ]
  },
  {
   "cell_type": "code",
   "execution_count": 290,
   "metadata": {},
   "outputs": [
    {
     "data": {
      "text/plain": [
       "{'text': 'Apple is looking at buying U.K. startup for $1 billion',\n",
       " 'ents': [{'start': 0, 'end': 5, 'label': 'ORG'},\n",
       "  {'start': 27, 'end': 31, 'label': 'GPE'},\n",
       "  {'start': 44, 'end': 54, 'label': 'MONEY'}],\n",
       " 'title': None}"
      ]
     },
     "execution_count": 290,
     "metadata": {},
     "output_type": "execute_result"
    }
   ],
   "source": [
    "parse_ents(nlp(test_query))"
   ]
  },
  {
   "cell_type": "code",
   "execution_count": 316,
   "metadata": {},
   "outputs": [],
   "source": [
    "def extract_nouns(query):\n",
    "    keep_pos = ['PRON', 'PROPN', 'NOUN']\n",
    "    return {tok.text: [tok.idx, tok.idx+len(tok.text), tok.pos_] for tok in nlp(query) if tok.pos_ in keep_pos}"
   ]
  },
  {
   "cell_type": "code",
   "execution_count": 317,
   "metadata": {},
   "outputs": [
    {
     "name": "stderr",
     "output_type": "stream",
     "text": [
      "/Users/sharma/miniconda3/envs/avaamo/lib/python3.6/site-packages/ipykernel_launcher.py:2: SettingWithCopyWarning: \n",
      "A value is trying to be set on a copy of a slice from a DataFrame.\n",
      "Try using .loc[row_indexer,col_indexer] = value instead\n",
      "\n",
      "See the caveats in the documentation: http://pandas.pydata.org/pandas-docs/stable/indexing.html#indexing-view-versus-copy\n",
      "  \n"
     ]
    }
   ],
   "source": [
    "def add_nouns(df=entity_df):\n",
    "    df['nouns'] = df['queries'].apply(extract_nouns)\n",
    "add_nouns(mini_entity_df)"
   ]
  },
  {
   "cell_type": "code",
   "execution_count": 318,
   "metadata": {},
   "outputs": [
    {
     "data": {
      "text/html": [
       "<div>\n",
       "<style scoped>\n",
       "    .dataframe tbody tr th:only-of-type {\n",
       "        vertical-align: middle;\n",
       "    }\n",
       "\n",
       "    .dataframe tbody tr th {\n",
       "        vertical-align: top;\n",
       "    }\n",
       "\n",
       "    .dataframe thead th {\n",
       "        text-align: right;\n",
       "    }\n",
       "</style>\n",
       "<table border=\"1\" class=\"dataframe\">\n",
       "  <thead>\n",
       "    <tr style=\"text-align: right;\">\n",
       "      <th></th>\n",
       "      <th>queries</th>\n",
       "      <th>named_entities</th>\n",
       "      <th>nouns</th>\n",
       "    </tr>\n",
       "  </thead>\n",
       "  <tbody>\n",
       "    <tr>\n",
       "      <th>0</th>\n",
       "      <td>i need to reschedule my appointment which was ...</td>\n",
       "      <td>{'11/24': [60, 65, 'CARDINAL'], '1267154747': ...</td>\n",
       "      <td>{'i': [271, 272, 'PRON'], 'appointment': [348,...</td>\n",
       "    </tr>\n",
       "    <tr>\n",
       "      <th>1</th>\n",
       "      <td>this is the third time i made an appointment w...</td>\n",
       "      <td>{'third': [12, 17, 'ORDINAL'], 'ny': [70, 72, ...</td>\n",
       "      <td>{'time': [18, 22, 'NOUN'], 'i': [340, 341, 'PR...</td>\n",
       "    </tr>\n",
       "    <tr>\n",
       "      <th>2</th>\n",
       "      <td>why if i make a appointment for 8 am do they t...</td>\n",
       "      <td>{'8': [32, 33, 'DATE'], '30': [159, 161, 'QUAN...</td>\n",
       "      <td>{'i': [243, 244, 'PRON'], 'appointment': [268,...</td>\n",
       "    </tr>\n",
       "    <tr>\n",
       "      <th>3</th>\n",
       "      <td>called pasadena store sunday am . asked how lo...</td>\n",
       "      <td>{'sunday': [22, 28, 'DATE'], 'am': [29, 31, 'T...</td>\n",
       "      <td>{'pasadena': [7, 15, 'NOUN'], 'store': [16, 21...</td>\n",
       "    </tr>\n",
       "    <tr>\n",
       "      <th>4</th>\n",
       "      <td>is it normal to have a 2 pm appointment for ti...</td>\n",
       "      <td>{'2 pm': [23, 27, 'TIME'], '2 hours': [203, 21...</td>\n",
       "      <td>{'it': [189, 191, 'PRON'], 'pm': [25, 27, 'NOU...</td>\n",
       "    </tr>\n",
       "  </tbody>\n",
       "</table>\n",
       "</div>"
      ],
      "text/plain": [
       "                                             queries  \\\n",
       "0  i need to reschedule my appointment which was ...   \n",
       "1  this is the third time i made an appointment w...   \n",
       "2  why if i make a appointment for 8 am do they t...   \n",
       "3  called pasadena store sunday am . asked how lo...   \n",
       "4  is it normal to have a 2 pm appointment for ti...   \n",
       "\n",
       "                                      named_entities  \\\n",
       "0  {'11/24': [60, 65, 'CARDINAL'], '1267154747': ...   \n",
       "1  {'third': [12, 17, 'ORDINAL'], 'ny': [70, 72, ...   \n",
       "2  {'8': [32, 33, 'DATE'], '30': [159, 161, 'QUAN...   \n",
       "3  {'sunday': [22, 28, 'DATE'], 'am': [29, 31, 'T...   \n",
       "4  {'2 pm': [23, 27, 'TIME'], '2 hours': [203, 21...   \n",
       "\n",
       "                                               nouns  \n",
       "0  {'i': [271, 272, 'PRON'], 'appointment': [348,...  \n",
       "1  {'time': [18, 22, 'NOUN'], 'i': [340, 341, 'PR...  \n",
       "2  {'i': [243, 244, 'PRON'], 'appointment': [268,...  \n",
       "3  {'pasadena': [7, 15, 'NOUN'], 'store': [16, 21...  \n",
       "4  {'it': [189, 191, 'PRON'], 'pm': [25, 27, 'NOU...  "
      ]
     },
     "metadata": {},
     "output_type": "display_data"
    }
   ],
   "source": [
    "display(mini_entity_df)"
   ]
  },
  {
   "cell_type": "code",
   "execution_count": 328,
   "metadata": {},
   "outputs": [
    {
     "data": {
      "text/plain": [
       "{'third': [12, 17, 'ORDINAL'],\n",
       " 'ny': [70, 72, 'GPE'],\n",
       " 'an hour': [261, 268, 'TIME'],\n",
       " 'three': [362, 367, 'CARDINAL'],\n",
       " '1286793129': [399, 409, 'MONEY'],\n",
       " '12/29/17 11:00am': [410, 426, 'ORG']}"
      ]
     },
     "execution_count": 328,
     "metadata": {},
     "output_type": "execute_result"
    }
   ],
   "source": [
    "mini_entity_df['named_entities'][1]"
   ]
  },
  {
   "cell_type": "code",
   "execution_count": 331,
   "metadata": {},
   "outputs": [
    {
     "data": {
      "text/plain": [
       "{'time': [18, 22, 'NOUN'],\n",
       " 'i': [340, 341, 'PRON'],\n",
       " 'appointment': [427, 438, 'NOUN'],\n",
       " 'acme': [50, 54, 'NOUN'],\n",
       " 'corp': [55, 59, 'NOUN'],\n",
       " 'patchogue': [60, 69, 'NOUN'],\n",
       " 'ny': [70, 72, 'NOUN'],\n",
       " 'internet': [82, 90, 'NOUN'],\n",
       " 'confirmation': [210, 222, 'NOUN'],\n",
       " 'print': [186, 191, 'NOUN'],\n",
       " 'email': [321, 326, 'NOUN'],\n",
       " 'it': [223, 225, 'PRON'],\n",
       " 'm': [247, 248, 'NOUN'],\n",
       " 'hour': [264, 268, 'NOUN'],\n",
       " 'home': [330, 334, 'NOUN'],\n",
       " 'service': [352, 359, 'NOUN'],\n",
       " 'strikes': [368, 375, 'NOUN'],\n",
       " 'out': [385, 388, 'NOUN']}"
      ]
     },
     "execution_count": 331,
     "metadata": {},
     "output_type": "execute_result"
    }
   ],
   "source": [
    "mini_entity_df['nouns'][1]"
   ]
  },
  {
   "cell_type": "code",
   "execution_count": 332,
   "metadata": {},
   "outputs": [],
   "source": [
    "entities = mini_entity_df['nouns'][1]\n",
    "for entity, metadata in entities.items():\n",
    "    try:\n",
    "        if mini_entity_df['named_entities'][1][entity][0] == metadata[0]:\n",
    "            entities[entity] = mini_entity_df['named_entities'][1][entity]\n",
    "    except KeyError:\n",
    "        continue"
   ]
  },
  {
   "cell_type": "code",
   "execution_count": 333,
   "metadata": {},
   "outputs": [
    {
     "data": {
      "text/plain": [
       "{'time': [18, 22, 'NOUN'],\n",
       " 'i': [340, 341, 'PRON'],\n",
       " 'appointment': [427, 438, 'NOUN'],\n",
       " 'acme': [50, 54, 'NOUN'],\n",
       " 'corp': [55, 59, 'NOUN'],\n",
       " 'patchogue': [60, 69, 'NOUN'],\n",
       " 'ny': [70, 72, 'GPE'],\n",
       " 'internet': [82, 90, 'NOUN'],\n",
       " 'confirmation': [210, 222, 'NOUN'],\n",
       " 'print': [186, 191, 'NOUN'],\n",
       " 'email': [321, 326, 'NOUN'],\n",
       " 'it': [223, 225, 'PRON'],\n",
       " 'm': [247, 248, 'NOUN'],\n",
       " 'hour': [264, 268, 'NOUN'],\n",
       " 'home': [330, 334, 'NOUN'],\n",
       " 'service': [352, 359, 'NOUN'],\n",
       " 'strikes': [368, 375, 'NOUN'],\n",
       " 'out': [385, 388, 'NOUN']}"
      ]
     },
     "execution_count": 333,
     "metadata": {},
     "output_type": "execute_result"
    }
   ],
   "source": [
    "entities"
   ]
  },
  {
   "cell_type": "code",
   "execution_count": 338,
   "metadata": {},
   "outputs": [],
   "source": [
    "def extract_entities(entity_series):\n",
    "    entities = entity_series['nouns']\n",
    "    for entity, metadata in entities.items():\n",
    "        try:\n",
    "            if entity_series['named_entities'][entity][0] == metadata[0]:\n",
    "                entities[entity] = entity_series['named_entities'][entity]\n",
    "        except KeyError:\n",
    "            continue\n",
    "    return entities"
   ]
  },
  {
   "cell_type": "code",
   "execution_count": 339,
   "metadata": {},
   "outputs": [
    {
     "name": "stderr",
     "output_type": "stream",
     "text": [
      "/Users/sharma/miniconda3/envs/avaamo/lib/python3.6/site-packages/ipykernel_launcher.py:2: SettingWithCopyWarning: \n",
      "A value is trying to be set on a copy of a slice from a DataFrame.\n",
      "Try using .loc[row_indexer,col_indexer] = value instead\n",
      "\n",
      "See the caveats in the documentation: http://pandas.pydata.org/pandas-docs/stable/indexing.html#indexing-view-versus-copy\n",
      "  \n"
     ]
    }
   ],
   "source": [
    "def add_entities(df=entity_df):\n",
    "    df['entities'] = df.apply(extract_entities, axis=1)\n",
    "add_entities(mini_entity_df)"
   ]
  },
  {
   "cell_type": "code",
   "execution_count": 340,
   "metadata": {},
   "outputs": [
    {
     "data": {
      "text/html": [
       "<div>\n",
       "<style scoped>\n",
       "    .dataframe tbody tr th:only-of-type {\n",
       "        vertical-align: middle;\n",
       "    }\n",
       "\n",
       "    .dataframe tbody tr th {\n",
       "        vertical-align: top;\n",
       "    }\n",
       "\n",
       "    .dataframe thead th {\n",
       "        text-align: right;\n",
       "    }\n",
       "</style>\n",
       "<table border=\"1\" class=\"dataframe\">\n",
       "  <thead>\n",
       "    <tr style=\"text-align: right;\">\n",
       "      <th></th>\n",
       "      <th>queries</th>\n",
       "      <th>named_entities</th>\n",
       "      <th>nouns</th>\n",
       "      <th>entities</th>\n",
       "    </tr>\n",
       "  </thead>\n",
       "  <tbody>\n",
       "    <tr>\n",
       "      <th>0</th>\n",
       "      <td>i need to reschedule my appointment which was ...</td>\n",
       "      <td>{'11/24': [60, 65, 'CARDINAL'], '1267154747': ...</td>\n",
       "      <td>{'i': [271, 272, 'PRON'], 'appointment': [348,...</td>\n",
       "      <td>{'i': [271, 272, 'PRON'], 'appointment': [348,...</td>\n",
       "    </tr>\n",
       "    <tr>\n",
       "      <th>1</th>\n",
       "      <td>this is the third time i made an appointment w...</td>\n",
       "      <td>{'third': [12, 17, 'ORDINAL'], 'ny': [70, 72, ...</td>\n",
       "      <td>{'time': [18, 22, 'NOUN'], 'i': [340, 341, 'PR...</td>\n",
       "      <td>{'time': [18, 22, 'NOUN'], 'i': [340, 341, 'PR...</td>\n",
       "    </tr>\n",
       "    <tr>\n",
       "      <th>2</th>\n",
       "      <td>why if i make a appointment for 8 am do they t...</td>\n",
       "      <td>{'8': [32, 33, 'DATE'], '30': [159, 161, 'QUAN...</td>\n",
       "      <td>{'i': [243, 244, 'PRON'], 'appointment': [268,...</td>\n",
       "      <td>{'i': [243, 244, 'PRON'], 'appointment': [268,...</td>\n",
       "    </tr>\n",
       "    <tr>\n",
       "      <th>3</th>\n",
       "      <td>called pasadena store sunday am . asked how lo...</td>\n",
       "      <td>{'sunday': [22, 28, 'DATE'], 'am': [29, 31, 'T...</td>\n",
       "      <td>{'pasadena': [7, 15, 'NOUN'], 'store': [16, 21...</td>\n",
       "      <td>{'pasadena': [7, 15, 'NOUN'], 'store': [16, 21...</td>\n",
       "    </tr>\n",
       "    <tr>\n",
       "      <th>4</th>\n",
       "      <td>is it normal to have a 2 pm appointment for ti...</td>\n",
       "      <td>{'2 pm': [23, 27, 'TIME'], '2 hours': [203, 21...</td>\n",
       "      <td>{'it': [189, 191, 'PRON'], 'pm': [25, 27, 'NOU...</td>\n",
       "      <td>{'it': [189, 191, 'PRON'], 'pm': [25, 27, 'NOU...</td>\n",
       "    </tr>\n",
       "  </tbody>\n",
       "</table>\n",
       "</div>"
      ],
      "text/plain": [
       "                                             queries  \\\n",
       "0  i need to reschedule my appointment which was ...   \n",
       "1  this is the third time i made an appointment w...   \n",
       "2  why if i make a appointment for 8 am do they t...   \n",
       "3  called pasadena store sunday am . asked how lo...   \n",
       "4  is it normal to have a 2 pm appointment for ti...   \n",
       "\n",
       "                                      named_entities  \\\n",
       "0  {'11/24': [60, 65, 'CARDINAL'], '1267154747': ...   \n",
       "1  {'third': [12, 17, 'ORDINAL'], 'ny': [70, 72, ...   \n",
       "2  {'8': [32, 33, 'DATE'], '30': [159, 161, 'QUAN...   \n",
       "3  {'sunday': [22, 28, 'DATE'], 'am': [29, 31, 'T...   \n",
       "4  {'2 pm': [23, 27, 'TIME'], '2 hours': [203, 21...   \n",
       "\n",
       "                                               nouns  \\\n",
       "0  {'i': [271, 272, 'PRON'], 'appointment': [348,...   \n",
       "1  {'time': [18, 22, 'NOUN'], 'i': [340, 341, 'PR...   \n",
       "2  {'i': [243, 244, 'PRON'], 'appointment': [268,...   \n",
       "3  {'pasadena': [7, 15, 'NOUN'], 'store': [16, 21...   \n",
       "4  {'it': [189, 191, 'PRON'], 'pm': [25, 27, 'NOU...   \n",
       "\n",
       "                                            entities  \n",
       "0  {'i': [271, 272, 'PRON'], 'appointment': [348,...  \n",
       "1  {'time': [18, 22, 'NOUN'], 'i': [340, 341, 'PR...  \n",
       "2  {'i': [243, 244, 'PRON'], 'appointment': [268,...  \n",
       "3  {'pasadena': [7, 15, 'NOUN'], 'store': [16, 21...  \n",
       "4  {'it': [189, 191, 'PRON'], 'pm': [25, 27, 'NOU...  "
      ]
     },
     "execution_count": 340,
     "metadata": {},
     "output_type": "execute_result"
    }
   ],
   "source": [
    "mini_entity_df"
   ]
  },
  {
   "cell_type": "code",
   "execution_count": 342,
   "metadata": {},
   "outputs": [],
   "source": [
    "#TODO: add visual support to see entities"
   ]
  },
  {
   "cell_type": "code",
   "execution_count": null,
   "metadata": {},
   "outputs": [],
   "source": []
  }
 ],
 "metadata": {
  "kernelspec": {
   "display_name": "Python 3",
   "language": "python",
   "name": "python3"
  },
  "language_info": {
   "codemirror_mode": {
    "name": "ipython",
    "version": 3
   },
   "file_extension": ".py",
   "mimetype": "text/x-python",
   "name": "python",
   "nbconvert_exporter": "python",
   "pygments_lexer": "ipython3",
   "version": "3.6.5"
  }
 },
 "nbformat": 4,
 "nbformat_minor": 2
}
