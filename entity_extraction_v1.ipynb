{
 "cells": [
  {
   "cell_type": "code",
   "execution_count": 137,
   "metadata": {},
   "outputs": [],
   "source": [
    "import pandas as pd\n",
    "import spacy\n",
    "from spacy.displacy.render import EntityRenderer\n",
    "from spacy.tokens import Doc\n",
    "from IPython.core.display import display, HTML"
   ]
  },
  {
   "cell_type": "markdown",
   "metadata": {},
   "source": [
    "## Step 1: Inspect data"
   ]
  },
  {
   "cell_type": "code",
   "execution_count": 122,
   "metadata": {},
   "outputs": [
    {
     "data": {
      "text/html": [
       "<div>\n",
       "<style scoped>\n",
       "    .dataframe tbody tr th:only-of-type {\n",
       "        vertical-align: middle;\n",
       "    }\n",
       "\n",
       "    .dataframe tbody tr th {\n",
       "        vertical-align: top;\n",
       "    }\n",
       "\n",
       "    .dataframe thead th {\n",
       "        text-align: right;\n",
       "    }\n",
       "</style>\n",
       "<table border=\"1\" class=\"dataframe\">\n",
       "  <thead>\n",
       "    <tr style=\"text-align: right;\">\n",
       "      <th></th>\n",
       "      <th>queries</th>\n",
       "    </tr>\n",
       "  </thead>\n",
       "  <tbody>\n",
       "    <tr>\n",
       "      <th>0</th>\n",
       "      <td>i need to reschedule my appointment which was ...</td>\n",
       "    </tr>\n",
       "    <tr>\n",
       "      <th>1</th>\n",
       "      <td>this is the third time i made an appointment w...</td>\n",
       "    </tr>\n",
       "    <tr>\n",
       "      <th>...</th>\n",
       "      <td>...</td>\n",
       "    </tr>\n",
       "    <tr>\n",
       "      <th>4620</th>\n",
       "      <td>hola me podrÌ£åÁn cotizar</td>\n",
       "    </tr>\n",
       "    <tr>\n",
       "      <th>4621</th>\n",
       "      <td>can you install the resonator for me ?</td>\n",
       "    </tr>\n",
       "  </tbody>\n",
       "</table>\n",
       "<p>4622 rows × 1 columns</p>\n",
       "</div>"
      ],
      "text/plain": [
       "                                                queries\n",
       "0     i need to reschedule my appointment which was ...\n",
       "1     this is the third time i made an appointment w...\n",
       "...                                                 ...\n",
       "4620                          hola me podrÌ£åÁn cotizar\n",
       "4621             can you install the resonator for me ?\n",
       "\n",
       "[4622 rows x 1 columns]"
      ]
     },
     "metadata": {},
     "output_type": "display_data"
    }
   ],
   "source": [
    "entity_df = pd.read_csv('queries.csv', header=None)\n",
    "entity_df.columns = ['queries']\n",
    "pd.set_option('display.max_rows', 5)\n",
    "display(entity_df)"
   ]
  },
  {
   "cell_type": "code",
   "execution_count": 123,
   "metadata": {},
   "outputs": [],
   "source": [
    "nlp = spacy.load('en_core_web_lg')"
   ]
  },
  {
   "cell_type": "code",
   "execution_count": 143,
   "metadata": {},
   "outputs": [],
   "source": [
    "def custom_render(doc, df, options={}, page=False, minify=False, idx=0):\n",
    "    renderer, converter = EntityRenderer, parse_custom_ents\n",
    "    renderer = renderer(options=options)\n",
    "    parsed = [converter(doc, df, idx)]\n",
    "    html = renderer.render(parsed, page=page, minify=minify).strip()  \n",
    "    return display(HTML(html))\n",
    "\n",
    "def parse_custom_ents(doc, df, idx):\n",
    "    if 'entities' in df.columns:\n",
    "        entities = df['entities'][idx]\n",
    "        ents = [{'start': ent[1], 'end': ent[2], 'label': ent[3]} \n",
    "                for ent in entities]\n",
    "    else:\n",
    "        ents = [{'start': ent.start_char, 'end': ent.end_char, 'label': ent.label_}\n",
    "            for ent in doc.ents]\n",
    "    title = None\n",
    "    return {'text': doc.text, 'ents': ents, 'title': title}\n",
    "\n",
    "def extract_named_entities(query):\n",
    "    return [(ent.text, ent.start_char, ent.end_char, ent.label_) for ent in nlp(query).ents]\n",
    "\n",
    "def show_entities(idx, df, options={}):\n",
    "    query = df['queries'][idx]\n",
    "    custom_render(nlp(query), df, options=options, idx=idx)\n",
    "    \n",
    "pd.options.mode.chained_assignment = None # prevent warning about working on a copy of a df"
   ]
  },
  {
   "cell_type": "code",
   "execution_count": 178,
   "metadata": {},
   "outputs": [
    {
     "data": {
      "text/html": [
       "<div class=\"entities\" style=\"line-height: 2.5\">i need to reschedule my appointment which was originally on \n",
       "<mark class=\"entity\" style=\"background: #e4e7d2; padding: 0.45em 0.6em; margin: 0 0.25em; line-height: 1; border-radius: 0.35em; box-decoration-break: clone; -webkit-box-decoration-break: clone\">\n",
       "    11/24\n",
       "    <span style=\"font-size: 0.8em; font-weight: bold; line-height: 1; border-radius: 0.35em; text-transform: uppercase; vertical-align: middle; margin-left: 0.5rem\">CARDINAL</span>\n",
       "</mark>\n",
       " . order number  \n",
       "<mark class=\"entity\" style=\"background: #bfe1d9; padding: 0.45em 0.6em; margin: 0 0.25em; line-height: 1; border-radius: 0.35em; box-decoration-break: clone; -webkit-box-decoration-break: clone\">\n",
       "    1267154747\n",
       "    <span style=\"font-size: 0.8em; font-weight: bold; line-height: 1; border-radius: 0.35em; text-transform: uppercase; vertical-align: middle; margin-left: 0.5rem\">DATE</span>\n",
       "</mark>\n",
       " . i was there for my appointment  my tires were not . the location was supposed to call me when the tires arrived which they never did . i 'd like to reschedule my appointment . i 'd also like some type of compensation for not only wasting my time on the appointment date but for the lack of follow up by the location .</div>"
      ],
      "text/plain": [
       "<IPython.core.display.HTML object>"
      ]
     },
     "metadata": {},
     "output_type": "display_data"
    }
   ],
   "source": [
    "mini_entity_df = entity_df[:5]\n",
    "show_entities(0, mini_entity_df)"
   ]
  },
  {
   "cell_type": "code",
   "execution_count": 179,
   "metadata": {},
   "outputs": [],
   "source": [
    "def add_named_entities(df=entity_df):\n",
    "    df['named_entities'] = df['queries'].apply(extract_named_entities)\n",
    "add_named_entities(mini_entity_df)"
   ]
  },
  {
   "cell_type": "code",
   "execution_count": 180,
   "metadata": {},
   "outputs": [
    {
     "data": {
      "text/html": [
       "<div>\n",
       "<style scoped>\n",
       "    .dataframe tbody tr th:only-of-type {\n",
       "        vertical-align: middle;\n",
       "    }\n",
       "\n",
       "    .dataframe tbody tr th {\n",
       "        vertical-align: top;\n",
       "    }\n",
       "\n",
       "    .dataframe thead th {\n",
       "        text-align: right;\n",
       "    }\n",
       "</style>\n",
       "<table border=\"1\" class=\"dataframe\">\n",
       "  <thead>\n",
       "    <tr style=\"text-align: right;\">\n",
       "      <th></th>\n",
       "      <th>queries</th>\n",
       "      <th>named_entities</th>\n",
       "    </tr>\n",
       "  </thead>\n",
       "  <tbody>\n",
       "    <tr>\n",
       "      <th>0</th>\n",
       "      <td>i need to reschedule my appointment which was ...</td>\n",
       "      <td>{'11/24': [60, 65, 'CARDINAL'], '1267154747': ...</td>\n",
       "    </tr>\n",
       "    <tr>\n",
       "      <th>1</th>\n",
       "      <td>this is the third time i made an appointment w...</td>\n",
       "      <td>{'third': [12, 17, 'ORDINAL'], 'ny': [70, 72, ...</td>\n",
       "    </tr>\n",
       "    <tr>\n",
       "      <th>2</th>\n",
       "      <td>why if i make a appointment for 8 am do they t...</td>\n",
       "      <td>{'8': [32, 33, 'DATE'], '30': [159, 161, 'QUAN...</td>\n",
       "    </tr>\n",
       "    <tr>\n",
       "      <th>3</th>\n",
       "      <td>called pasadena store sunday am . asked how lo...</td>\n",
       "      <td>{'sunday': [22, 28, 'DATE'], 'am': [29, 31, 'T...</td>\n",
       "    </tr>\n",
       "    <tr>\n",
       "      <th>4</th>\n",
       "      <td>is it normal to have a 2 pm appointment for ti...</td>\n",
       "      <td>{'2 pm': [23, 27, 'TIME'], '2 hours': [203, 21...</td>\n",
       "    </tr>\n",
       "  </tbody>\n",
       "</table>\n",
       "</div>"
      ],
      "text/plain": [
       "                                             queries  \\\n",
       "0  i need to reschedule my appointment which was ...   \n",
       "1  this is the third time i made an appointment w...   \n",
       "2  why if i make a appointment for 8 am do they t...   \n",
       "3  called pasadena store sunday am . asked how lo...   \n",
       "4  is it normal to have a 2 pm appointment for ti...   \n",
       "\n",
       "                                      named_entities  \n",
       "0  {'11/24': [60, 65, 'CARDINAL'], '1267154747': ...  \n",
       "1  {'third': [12, 17, 'ORDINAL'], 'ny': [70, 72, ...  \n",
       "2  {'8': [32, 33, 'DATE'], '30': [159, 161, 'QUAN...  \n",
       "3  {'sunday': [22, 28, 'DATE'], 'am': [29, 31, 'T...  \n",
       "4  {'2 pm': [23, 27, 'TIME'], '2 hours': [203, 21...  "
      ]
     },
     "metadata": {},
     "output_type": "display_data"
    }
   ],
   "source": [
    "display(mini_entity_df)"
   ]
  },
  {
   "cell_type": "markdown",
   "metadata": {},
   "source": [
    "## Step 2: Extract all nouns"
   ]
  },
  {
   "cell_type": "code",
   "execution_count": 181,
   "metadata": {},
   "outputs": [],
   "source": [
    "def extract_nouns(query):\n",
    "    keep_pos = ['PRON', 'PROPN', 'NOUN']\n",
    "    return [(tok.text, tok.idx, tok.idx+len(tok.text), tok.pos_) for tok in nlp(query) if tok.pos_ in keep_pos]"
   ]
  },
  {
   "cell_type": "code",
   "execution_count": 182,
   "metadata": {},
   "outputs": [],
   "source": [
    "def add_nouns(df=entity_df):\n",
    "    df['nouns'] = df['queries'].apply(extract_nouns)\n",
    "add_nouns(mini_entity_df)"
   ]
  },
  {
   "cell_type": "code",
   "execution_count": 183,
   "metadata": {},
   "outputs": [
    {
     "data": {
      "text/html": [
       "<div>\n",
       "<style scoped>\n",
       "    .dataframe tbody tr th:only-of-type {\n",
       "        vertical-align: middle;\n",
       "    }\n",
       "\n",
       "    .dataframe tbody tr th {\n",
       "        vertical-align: top;\n",
       "    }\n",
       "\n",
       "    .dataframe thead th {\n",
       "        text-align: right;\n",
       "    }\n",
       "</style>\n",
       "<table border=\"1\" class=\"dataframe\">\n",
       "  <thead>\n",
       "    <tr style=\"text-align: right;\">\n",
       "      <th></th>\n",
       "      <th>queries</th>\n",
       "      <th>named_entities</th>\n",
       "      <th>nouns</th>\n",
       "    </tr>\n",
       "  </thead>\n",
       "  <tbody>\n",
       "    <tr>\n",
       "      <th>0</th>\n",
       "      <td>i need to reschedule my appointment which was ...</td>\n",
       "      <td>{'11/24': [60, 65, 'CARDINAL'], '1267154747': ...</td>\n",
       "      <td>{'i': [271, 272, 'PRON'], 'appointment': [348,...</td>\n",
       "    </tr>\n",
       "    <tr>\n",
       "      <th>1</th>\n",
       "      <td>this is the third time i made an appointment w...</td>\n",
       "      <td>{'third': [12, 17, 'ORDINAL'], 'ny': [70, 72, ...</td>\n",
       "      <td>{'time': [18, 22, 'NOUN'], 'i': [340, 341, 'PR...</td>\n",
       "    </tr>\n",
       "    <tr>\n",
       "      <th>2</th>\n",
       "      <td>why if i make a appointment for 8 am do they t...</td>\n",
       "      <td>{'8': [32, 33, 'DATE'], '30': [159, 161, 'QUAN...</td>\n",
       "      <td>{'i': [243, 244, 'PRON'], 'appointment': [268,...</td>\n",
       "    </tr>\n",
       "    <tr>\n",
       "      <th>3</th>\n",
       "      <td>called pasadena store sunday am . asked how lo...</td>\n",
       "      <td>{'sunday': [22, 28, 'DATE'], 'am': [29, 31, 'T...</td>\n",
       "      <td>{'pasadena': [7, 15, 'NOUN'], 'store': [16, 21...</td>\n",
       "    </tr>\n",
       "    <tr>\n",
       "      <th>4</th>\n",
       "      <td>is it normal to have a 2 pm appointment for ti...</td>\n",
       "      <td>{'2 pm': [23, 27, 'TIME'], '2 hours': [203, 21...</td>\n",
       "      <td>{'it': [189, 191, 'PRON'], 'pm': [25, 27, 'NOU...</td>\n",
       "    </tr>\n",
       "  </tbody>\n",
       "</table>\n",
       "</div>"
      ],
      "text/plain": [
       "                                             queries  \\\n",
       "0  i need to reschedule my appointment which was ...   \n",
       "1  this is the third time i made an appointment w...   \n",
       "2  why if i make a appointment for 8 am do they t...   \n",
       "3  called pasadena store sunday am . asked how lo...   \n",
       "4  is it normal to have a 2 pm appointment for ti...   \n",
       "\n",
       "                                      named_entities  \\\n",
       "0  {'11/24': [60, 65, 'CARDINAL'], '1267154747': ...   \n",
       "1  {'third': [12, 17, 'ORDINAL'], 'ny': [70, 72, ...   \n",
       "2  {'8': [32, 33, 'DATE'], '30': [159, 161, 'QUAN...   \n",
       "3  {'sunday': [22, 28, 'DATE'], 'am': [29, 31, 'T...   \n",
       "4  {'2 pm': [23, 27, 'TIME'], '2 hours': [203, 21...   \n",
       "\n",
       "                                               nouns  \n",
       "0  {'i': [271, 272, 'PRON'], 'appointment': [348,...  \n",
       "1  {'time': [18, 22, 'NOUN'], 'i': [340, 341, 'PR...  \n",
       "2  {'i': [243, 244, 'PRON'], 'appointment': [268,...  \n",
       "3  {'pasadena': [7, 15, 'NOUN'], 'store': [16, 21...  \n",
       "4  {'it': [189, 191, 'PRON'], 'pm': [25, 27, 'NOU...  "
      ]
     },
     "metadata": {},
     "output_type": "display_data"
    }
   ],
   "source": [
    "display(mini_entity_df)"
   ]
  },
  {
   "cell_type": "code",
   "execution_count": 184,
   "metadata": {},
   "outputs": [],
   "source": [
    "def extract_entities(row_series):\n",
    "    entities = {}\n",
    "    \n",
    "    for entity in row_series['nouns']:\n",
    "        entities[entity[0]] if entity[]\n",
    "        \n",
    "## TODO: figure out how to combine named_entities and nouns to get proper tagging\n",
    "        \n",
    "    \n",
    "    for entity, metadata in entities.items():\n",
    "        try:\n",
    "            if entity_series['named_entities'][entity][0] == metadata[0]:\n",
    "                entities[entity] = entity_series['named_entities'][entity]\n",
    "        except KeyError:\n",
    "            continue\n",
    "#     for entity, metadata in entity_series['named_entities'].items():\n",
    "#         entities[entity] = metadata\n",
    "    return entities"
   ]
  },
  {
   "cell_type": "code",
   "execution_count": 185,
   "metadata": {},
   "outputs": [],
   "source": [
    "def add_entities(df=entity_df):\n",
    "    df['entities'] = df.apply(extract_entities, axis=1)\n",
    "add_entities(mini_entity_df)"
   ]
  },
  {
   "cell_type": "code",
   "execution_count": 186,
   "metadata": {},
   "outputs": [
    {
     "data": {
      "text/html": [
       "<div>\n",
       "<style scoped>\n",
       "    .dataframe tbody tr th:only-of-type {\n",
       "        vertical-align: middle;\n",
       "    }\n",
       "\n",
       "    .dataframe tbody tr th {\n",
       "        vertical-align: top;\n",
       "    }\n",
       "\n",
       "    .dataframe thead th {\n",
       "        text-align: right;\n",
       "    }\n",
       "</style>\n",
       "<table border=\"1\" class=\"dataframe\">\n",
       "  <thead>\n",
       "    <tr style=\"text-align: right;\">\n",
       "      <th></th>\n",
       "      <th>queries</th>\n",
       "      <th>named_entities</th>\n",
       "      <th>nouns</th>\n",
       "      <th>entities</th>\n",
       "    </tr>\n",
       "  </thead>\n",
       "  <tbody>\n",
       "    <tr>\n",
       "      <th>0</th>\n",
       "      <td>i need to reschedule my appointment which was ...</td>\n",
       "      <td>{'11/24': [60, 65, 'CARDINAL'], '1267154747': ...</td>\n",
       "      <td>{'i': [271, 272, 'PRON'], 'appointment': [348,...</td>\n",
       "      <td>{'i': [271, 272, 'PRON'], 'appointment': [348,...</td>\n",
       "    </tr>\n",
       "    <tr>\n",
       "      <th>1</th>\n",
       "      <td>this is the third time i made an appointment w...</td>\n",
       "      <td>{'third': [12, 17, 'ORDINAL'], 'ny': [70, 72, ...</td>\n",
       "      <td>{'time': [18, 22, 'NOUN'], 'i': [340, 341, 'PR...</td>\n",
       "      <td>{'time': [18, 22, 'NOUN'], 'i': [340, 341, 'PR...</td>\n",
       "    </tr>\n",
       "    <tr>\n",
       "      <th>2</th>\n",
       "      <td>why if i make a appointment for 8 am do they t...</td>\n",
       "      <td>{'8': [32, 33, 'DATE'], '30': [159, 161, 'QUAN...</td>\n",
       "      <td>{'i': [243, 244, 'PRON'], 'appointment': [268,...</td>\n",
       "      <td>{'i': [243, 244, 'PRON'], 'appointment': [268,...</td>\n",
       "    </tr>\n",
       "    <tr>\n",
       "      <th>3</th>\n",
       "      <td>called pasadena store sunday am . asked how lo...</td>\n",
       "      <td>{'sunday': [22, 28, 'DATE'], 'am': [29, 31, 'T...</td>\n",
       "      <td>{'pasadena': [7, 15, 'NOUN'], 'store': [16, 21...</td>\n",
       "      <td>{'pasadena': [7, 15, 'NOUN'], 'store': [16, 21...</td>\n",
       "    </tr>\n",
       "    <tr>\n",
       "      <th>4</th>\n",
       "      <td>is it normal to have a 2 pm appointment for ti...</td>\n",
       "      <td>{'2 pm': [23, 27, 'TIME'], '2 hours': [203, 21...</td>\n",
       "      <td>{'it': [189, 191, 'PRON'], 'pm': [25, 27, 'NOU...</td>\n",
       "      <td>{'it': [189, 191, 'PRON'], 'pm': [25, 27, 'NOU...</td>\n",
       "    </tr>\n",
       "  </tbody>\n",
       "</table>\n",
       "</div>"
      ],
      "text/plain": [
       "                                             queries  \\\n",
       "0  i need to reschedule my appointment which was ...   \n",
       "1  this is the third time i made an appointment w...   \n",
       "2  why if i make a appointment for 8 am do they t...   \n",
       "3  called pasadena store sunday am . asked how lo...   \n",
       "4  is it normal to have a 2 pm appointment for ti...   \n",
       "\n",
       "                                      named_entities  \\\n",
       "0  {'11/24': [60, 65, 'CARDINAL'], '1267154747': ...   \n",
       "1  {'third': [12, 17, 'ORDINAL'], 'ny': [70, 72, ...   \n",
       "2  {'8': [32, 33, 'DATE'], '30': [159, 161, 'QUAN...   \n",
       "3  {'sunday': [22, 28, 'DATE'], 'am': [29, 31, 'T...   \n",
       "4  {'2 pm': [23, 27, 'TIME'], '2 hours': [203, 21...   \n",
       "\n",
       "                                               nouns  \\\n",
       "0  {'i': [271, 272, 'PRON'], 'appointment': [348,...   \n",
       "1  {'time': [18, 22, 'NOUN'], 'i': [340, 341, 'PR...   \n",
       "2  {'i': [243, 244, 'PRON'], 'appointment': [268,...   \n",
       "3  {'pasadena': [7, 15, 'NOUN'], 'store': [16, 21...   \n",
       "4  {'it': [189, 191, 'PRON'], 'pm': [25, 27, 'NOU...   \n",
       "\n",
       "                                            entities  \n",
       "0  {'i': [271, 272, 'PRON'], 'appointment': [348,...  \n",
       "1  {'time': [18, 22, 'NOUN'], 'i': [340, 341, 'PR...  \n",
       "2  {'i': [243, 244, 'PRON'], 'appointment': [268,...  \n",
       "3  {'pasadena': [7, 15, 'NOUN'], 'store': [16, 21...  \n",
       "4  {'it': [189, 191, 'PRON'], 'pm': [25, 27, 'NOU...  "
      ]
     },
     "metadata": {},
     "output_type": "display_data"
    }
   ],
   "source": [
    "display(mini_entity_df)"
   ]
  },
  {
   "cell_type": "code",
   "execution_count": 187,
   "metadata": {},
   "outputs": [
    {
     "data": {
      "text/html": [
       "<div class=\"entities\" style=\"line-height: 2.5\">i need to reschedule my appointment which was originally on 11/24 . order number  1267154747 . i was there for my appointment  my tires were not . the location was supposed to call me when the tires arrived which they never did . i 'd like to reschedule my appointment . \n",
       "<mark class=\"entity\" style=\"background: #2391D7; padding: 0.45em 0.6em; margin: 0 0.25em; line-height: 1; border-radius: 0.35em; box-decoration-break: clone; -webkit-box-decoration-break: clone\">\n",
       "    i\n",
       "    <span style=\"font-size: 0.8em; font-weight: bold; line-height: 1; border-radius: 0.35em; text-transform: uppercase; vertical-align: middle; margin-left: 0.5rem\">PRON</span>\n",
       "</mark>\n",
       " 'd also like some type of compensation for not only wasting my time on the \n",
       "<mark class=\"entity\" style=\"background: #2391D7; padding: 0.45em 0.6em; margin: 0 0.25em; line-height: 1; border-radius: 0.35em; box-decoration-break: clone; -webkit-box-decoration-break: clone\">\n",
       "    appointment\n",
       "    <span style=\"font-size: 0.8em; font-weight: bold; line-height: 1; border-radius: 0.35em; text-transform: uppercase; vertical-align: middle; margin-left: 0.5rem\">NOUN</span>\n",
       "</mark>\n",
       "\n",
       "<mark class=\"entity\" style=\"background: #2391D7; padding: 0.45em 0.6em; margin: 0 0.25em; line-height: 1; border-radius: 0.35em; box-decoration-break: clone; -webkit-box-decoration-break: clone\">\n",
       "    order\n",
       "    <span style=\"font-size: 0.8em; font-weight: bold; line-height: 1; border-radius: 0.35em; text-transform: uppercase; vertical-align: middle; margin-left: 0.5rem\">NOUN</span>\n",
       "</mark>\n",
       " \n",
       "<mark class=\"entity\" style=\"background: #2391D7; padding: 0.45em 0.6em; margin: 0 0.25em; line-height: 1; border-radius: 0.35em; box-decoration-break: clone; -webkit-box-decoration-break: clone\">\n",
       "    number\n",
       "    <span style=\"font-size: 0.8em; font-weight: bold; line-height: 1; border-radius: 0.35em; text-transform: uppercase; vertical-align: middle; margin-left: 0.5rem\">NOUN</span>\n",
       "</mark>\n",
       "  1267154747 . i was there for my appointment  my tires were not . the location was supposed to call me when the \n",
       "<mark class=\"entity\" style=\"background: #2391D7; padding: 0.45em 0.6em; margin: 0 0.25em; line-height: 1; border-radius: 0.35em; box-decoration-break: clone; -webkit-box-decoration-break: clone\">\n",
       "    tires\n",
       "    <span style=\"font-size: 0.8em; font-weight: bold; line-height: 1; border-radius: 0.35em; text-transform: uppercase; vertical-align: middle; margin-left: 0.5rem\">NOUN</span>\n",
       "</mark>\n",
       " arrived which they never did . i 'd like to reschedule my appointment . i 'd also like some type of compensation for not only wasting my time on the appointment date but for the lack of follow up by the \n",
       "<mark class=\"entity\" style=\"background: #2391D7; padding: 0.45em 0.6em; margin: 0 0.25em; line-height: 1; border-radius: 0.35em; box-decoration-break: clone; -webkit-box-decoration-break: clone\">\n",
       "    location\n",
       "    <span style=\"font-size: 0.8em; font-weight: bold; line-height: 1; border-radius: 0.35em; text-transform: uppercase; vertical-align: middle; margin-left: 0.5rem\">NOUN</span>\n",
       "</mark>\n",
       "\n",
       "<mark class=\"entity\" style=\"background: #2391D7; padding: 0.45em 0.6em; margin: 0 0.25em; line-height: 1; border-radius: 0.35em; box-decoration-break: clone; -webkit-box-decoration-break: clone\">\n",
       "    me\n",
       "    <span style=\"font-size: 0.8em; font-weight: bold; line-height: 1; border-radius: 0.35em; text-transform: uppercase; vertical-align: middle; margin-left: 0.5rem\">PRON</span>\n",
       "</mark>\n",
       " when the tires arrived which \n",
       "<mark class=\"entity\" style=\"background: #2391D7; padding: 0.45em 0.6em; margin: 0 0.25em; line-height: 1; border-radius: 0.35em; box-decoration-break: clone; -webkit-box-decoration-break: clone\">\n",
       "    they\n",
       "    <span style=\"font-size: 0.8em; font-weight: bold; line-height: 1; border-radius: 0.35em; text-transform: uppercase; vertical-align: middle; margin-left: 0.5rem\">PRON</span>\n",
       "</mark>\n",
       " never did . i 'd like to reschedule my appointment . i 'd also like some \n",
       "<mark class=\"entity\" style=\"background: #2391D7; padding: 0.45em 0.6em; margin: 0 0.25em; line-height: 1; border-radius: 0.35em; box-decoration-break: clone; -webkit-box-decoration-break: clone\">\n",
       "    type\n",
       "    <span style=\"font-size: 0.8em; font-weight: bold; line-height: 1; border-radius: 0.35em; text-transform: uppercase; vertical-align: middle; margin-left: 0.5rem\">NOUN</span>\n",
       "</mark>\n",
       " of \n",
       "<mark class=\"entity\" style=\"background: #2391D7; padding: 0.45em 0.6em; margin: 0 0.25em; line-height: 1; border-radius: 0.35em; box-decoration-break: clone; -webkit-box-decoration-break: clone\">\n",
       "    compensation\n",
       "    <span style=\"font-size: 0.8em; font-weight: bold; line-height: 1; border-radius: 0.35em; text-transform: uppercase; vertical-align: middle; margin-left: 0.5rem\">NOUN</span>\n",
       "</mark>\n",
       " for not only wasting my \n",
       "<mark class=\"entity\" style=\"background: #2391D7; padding: 0.45em 0.6em; margin: 0 0.25em; line-height: 1; border-radius: 0.35em; box-decoration-break: clone; -webkit-box-decoration-break: clone\">\n",
       "    time\n",
       "    <span style=\"font-size: 0.8em; font-weight: bold; line-height: 1; border-radius: 0.35em; text-transform: uppercase; vertical-align: middle; margin-left: 0.5rem\">NOUN</span>\n",
       "</mark>\n",
       " on the appointment \n",
       "<mark class=\"entity\" style=\"background: #2391D7; padding: 0.45em 0.6em; margin: 0 0.25em; line-height: 1; border-radius: 0.35em; box-decoration-break: clone; -webkit-box-decoration-break: clone\">\n",
       "    date\n",
       "    <span style=\"font-size: 0.8em; font-weight: bold; line-height: 1; border-radius: 0.35em; text-transform: uppercase; vertical-align: middle; margin-left: 0.5rem\">NOUN</span>\n",
       "</mark>\n",
       " but for the \n",
       "<mark class=\"entity\" style=\"background: #2391D7; padding: 0.45em 0.6em; margin: 0 0.25em; line-height: 1; border-radius: 0.35em; box-decoration-break: clone; -webkit-box-decoration-break: clone\">\n",
       "    lack\n",
       "    <span style=\"font-size: 0.8em; font-weight: bold; line-height: 1; border-radius: 0.35em; text-transform: uppercase; vertical-align: middle; margin-left: 0.5rem\">NOUN</span>\n",
       "</mark>\n",
       " of \n",
       "<mark class=\"entity\" style=\"background: #2391D7; padding: 0.45em 0.6em; margin: 0 0.25em; line-height: 1; border-radius: 0.35em; box-decoration-break: clone; -webkit-box-decoration-break: clone\">\n",
       "    follow\n",
       "    <span style=\"font-size: 0.8em; font-weight: bold; line-height: 1; border-radius: 0.35em; text-transform: uppercase; vertical-align: middle; margin-left: 0.5rem\">NOUN</span>\n",
       "</mark>\n",
       " up by the location .</div>"
      ],
      "text/plain": [
       "<IPython.core.display.HTML object>"
      ]
     },
     "metadata": {},
     "output_type": "display_data"
    }
   ],
   "source": [
    "options = {'colors': {'PRON': '#2391D7', 'PROPN': '#2391D7', 'NOUN': '#2391D7'}}\n",
    "show_entities(0, mini_entity_df, options=options)"
   ]
  },
  {
   "cell_type": "code",
   "execution_count": 211,
   "metadata": {},
   "outputs": [
    {
     "data": {
      "text/plain": [
       "\"i need to reschedule my appointment which was originally on 11/24 . order number  1267154747 . i was there for my appointment  my tires were not . the location was supposed to call me when the tires arrived which they never did . i 'd like to reschedule my appointment . i 'd also like some type of compensation for not only wasting my time on the appointment date but for the lack of follow up by the location .\""
      ]
     },
     "execution_count": 211,
     "metadata": {},
     "output_type": "execute_result"
    }
   ],
   "source": [
    "q = mini_entity_df['queries'][0]\n",
    "q"
   ]
  },
  {
   "cell_type": "code",
   "execution_count": 212,
   "metadata": {},
   "outputs": [
    {
     "data": {
      "text/html": [
       "<div class=\"entities\" style=\"line-height: 2.5\">i need to reschedule my appointment which was originally on \n",
       "<mark class=\"entity\" style=\"background: #e4e7d2; padding: 0.45em 0.6em; margin: 0 0.25em; line-height: 1; border-radius: 0.35em; box-decoration-break: clone; -webkit-box-decoration-break: clone\">\n",
       "    11/24\n",
       "    <span style=\"font-size: 0.8em; font-weight: bold; line-height: 1; border-radius: 0.35em; text-transform: uppercase; vertical-align: middle; margin-left: 0.5rem\">CARDINAL</span>\n",
       "</mark>\n",
       " . order number  \n",
       "<mark class=\"entity\" style=\"background: #bfe1d9; padding: 0.45em 0.6em; margin: 0 0.25em; line-height: 1; border-radius: 0.35em; box-decoration-break: clone; -webkit-box-decoration-break: clone\">\n",
       "    1267154747\n",
       "    <span style=\"font-size: 0.8em; font-weight: bold; line-height: 1; border-radius: 0.35em; text-transform: uppercase; vertical-align: middle; margin-left: 0.5rem\">DATE</span>\n",
       "</mark>\n",
       " . i was there for my appointment  my tires were not . the location was supposed to call me when the tires arrived which they never did . i 'd like to reschedule my appointment . i 'd also like some type of compensation for not only wasting my time on the appointment date but for the lack of follow up by the location .</div>"
      ],
      "text/plain": [
       "<IPython.core.display.HTML object>"
      ]
     },
     "metadata": {},
     "output_type": "display_data"
    }
   ],
   "source": [
    "doc = nlp(q)\n",
    "displacy.render(doc, style='ent', jupyter=True)"
   ]
  },
  {
   "cell_type": "code",
   "execution_count": 213,
   "metadata": {},
   "outputs": [
    {
     "data": {
      "text/plain": [
       "{'i': [271, 272, 'PRON'],\n",
       " 'appointment': [348, 359, 'NOUN'],\n",
       " 'order': [68, 73, 'NOUN'],\n",
       " 'number': [74, 80, 'NOUN'],\n",
       " 'tires': [193, 198, 'NOUN'],\n",
       " 'location': [402, 410, 'NOUN'],\n",
       " 'me': [181, 183, 'PRON'],\n",
       " 'they': [213, 217, 'PRON'],\n",
       " 'type': [291, 295, 'NOUN'],\n",
       " 'compensation': [299, 311, 'NOUN'],\n",
       " 'time': [336, 340, 'NOUN'],\n",
       " 'date': [360, 364, 'NOUN'],\n",
       " 'lack': [377, 381, 'NOUN'],\n",
       " 'follow': [385, 391, 'NOUN']}"
      ]
     },
     "execution_count": 213,
     "metadata": {},
     "output_type": "execute_result"
    }
   ],
   "source": [
    "extract_nouns(q)"
   ]
  },
  {
   "cell_type": "code",
   "execution_count": 221,
   "metadata": {},
   "outputs": [
    {
     "data": {
      "text/plain": [
       "[('i', 0, 1, 'PRON'),\n",
       " ('appointment', 24, 35, 'NOUN'),\n",
       " ('order', 68, 73, 'NOUN'),\n",
       " ('number', 74, 80, 'NOUN'),\n",
       " ('i', 95, 96, 'PRON'),\n",
       " ('appointment', 114, 125, 'NOUN'),\n",
       " ('tires', 130, 135, 'NOUN'),\n",
       " ('location', 151, 159, 'NOUN'),\n",
       " ('me', 181, 183, 'PRON'),\n",
       " ('tires', 193, 198, 'NOUN'),\n",
       " ('they', 213, 217, 'PRON'),\n",
       " ('i', 230, 231, 'PRON'),\n",
       " ('appointment', 257, 268, 'NOUN'),\n",
       " ('i', 271, 272, 'PRON'),\n",
       " ('type', 291, 295, 'NOUN'),\n",
       " ('compensation', 299, 311, 'NOUN'),\n",
       " ('time', 336, 340, 'NOUN'),\n",
       " ('appointment', 348, 359, 'NOUN'),\n",
       " ('date', 360, 364, 'NOUN'),\n",
       " ('lack', 377, 381, 'NOUN'),\n",
       " ('follow', 385, 391, 'NOUN'),\n",
       " ('location', 402, 410, 'NOUN')]"
      ]
     },
     "execution_count": 221,
     "metadata": {},
     "output_type": "execute_result"
    }
   ],
   "source": [
    "keep_pos = ['PRON', 'PROPN', 'NOUN']\n",
    "[(tok.text, tok.idx, tok.idx+len(tok.text), tok.pos_) for tok in doc if tok.pos_ in keep_pos]"
   ]
  },
  {
   "cell_type": "code",
   "execution_count": null,
   "metadata": {},
   "outputs": [],
   "source": []
  }
 ],
 "metadata": {
  "kernelspec": {
   "display_name": "Python 3",
   "language": "python",
   "name": "python3"
  },
  "language_info": {
   "codemirror_mode": {
    "name": "ipython",
    "version": 3
   },
   "file_extension": ".py",
   "mimetype": "text/x-python",
   "name": "python",
   "nbconvert_exporter": "python",
   "pygments_lexer": "ipython3",
   "version": "3.6.5"
  }
 },
 "nbformat": 4,
 "nbformat_minor": 2
}
