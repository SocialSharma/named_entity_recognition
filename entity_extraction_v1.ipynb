{
 "cells": [
  {
   "cell_type": "code",
   "execution_count": 15,
   "metadata": {},
   "outputs": [],
   "source": [
    "import pandas as pd\n",
    "import spacy\n",
    "from spacy.displacy.render import EntityRenderer\n",
    "from spacy.tokens import Doc"
   ]
  },
  {
   "cell_type": "code",
   "execution_count": 98,
   "metadata": {},
   "outputs": [],
   "source": [
    "_html = {}\n",
    "\n",
    "def render(docs, df, options={}, style='ent', page=False, minify=False, jupyter=True, manual=False, idx=0):\n",
    "    if isinstance(docs, Doc) or isinstance(docs, dict):\n",
    "        docs = [docs]\n",
    "    renderer, converter = EntityRenderer, parse_custom_ents\n",
    "    renderer = renderer(options=options)\n",
    "    parsed = [converter(doc, df, idx) for doc in docs] if not manual else docs\n",
    "    _html['parsed'] = renderer.render(parsed, page=page, minify=minify).strip()\n",
    "    html = _html['parsed']\n",
    "    if jupyter:  # return HTML rendered by IPython display()\n",
    "        from IPython.core.display import display, HTML\n",
    "        return display(HTML(html))\n",
    "    return html\n",
    "\n",
    "def parse_custom_ents(doc, df, idx):\n",
    "    if df['entities'].bool:\n",
    "        entities = df['entities'][idx]\n",
    "        ents = [{'start': ent[0], 'end': ent[1], 'label': ent[2]} \n",
    "                for ent in entities.values()]\n",
    "    else:\n",
    "        ents = [{'start': ent.start_char, 'end': ent.end_char, 'label': ent.label_}\n",
    "            for ent in doc.ents]\n",
    "    title = None\n",
    "    return {'text': doc.text, 'ents': ents, 'title': title}"
   ]
  },
  {
   "cell_type": "markdown",
   "metadata": {},
   "source": [
    "## Step 1: Inspect data"
   ]
  },
  {
   "cell_type": "code",
   "execution_count": 47,
   "metadata": {},
   "outputs": [
    {
     "data": {
      "text/html": [
       "<div>\n",
       "<style scoped>\n",
       "    .dataframe tbody tr th:only-of-type {\n",
       "        vertical-align: middle;\n",
       "    }\n",
       "\n",
       "    .dataframe tbody tr th {\n",
       "        vertical-align: top;\n",
       "    }\n",
       "\n",
       "    .dataframe thead th {\n",
       "        text-align: right;\n",
       "    }\n",
       "</style>\n",
       "<table border=\"1\" class=\"dataframe\">\n",
       "  <thead>\n",
       "    <tr style=\"text-align: right;\">\n",
       "      <th></th>\n",
       "      <th>queries</th>\n",
       "    </tr>\n",
       "  </thead>\n",
       "  <tbody>\n",
       "    <tr>\n",
       "      <th>0</th>\n",
       "      <td>i need to reschedule my appointment which was ...</td>\n",
       "    </tr>\n",
       "    <tr>\n",
       "      <th>1</th>\n",
       "      <td>this is the third time i made an appointment w...</td>\n",
       "    </tr>\n",
       "    <tr>\n",
       "      <th>...</th>\n",
       "      <td>...</td>\n",
       "    </tr>\n",
       "    <tr>\n",
       "      <th>4620</th>\n",
       "      <td>hola me podrÌ£åÁn cotizar</td>\n",
       "    </tr>\n",
       "    <tr>\n",
       "      <th>4621</th>\n",
       "      <td>can you install the resonator for me ?</td>\n",
       "    </tr>\n",
       "  </tbody>\n",
       "</table>\n",
       "<p>4622 rows × 1 columns</p>\n",
       "</div>"
      ],
      "text/plain": [
       "                                                queries\n",
       "0     i need to reschedule my appointment which was ...\n",
       "1     this is the third time i made an appointment w...\n",
       "...                                                 ...\n",
       "4620                          hola me podrÌ£åÁn cotizar\n",
       "4621             can you install the resonator for me ?\n",
       "\n",
       "[4622 rows x 1 columns]"
      ]
     },
     "metadata": {},
     "output_type": "display_data"
    }
   ],
   "source": [
    "entity_df = pd.read_csv('queries.csv', header=None)\n",
    "entity_df.columns = ['queries']\n",
    "pd.set_option('display.max_rows', 5)\n",
    "display(entity_df)"
   ]
  },
  {
   "cell_type": "code",
   "execution_count": 6,
   "metadata": {},
   "outputs": [],
   "source": [
    "nlp = spacy.load('en_core_web_lg')"
   ]
  },
  {
   "cell_type": "code",
   "execution_count": 95,
   "metadata": {},
   "outputs": [],
   "source": [
    "def extract_named_entities(query):\n",
    "    return {ent.text: [ent.start_char, ent.end_char, ent.label_] for ent in nlp(query).ents}\n",
    "def show_entities(idx, style='ent', df=entity_df):\n",
    "    options = {'color': {'PRON': '#2391D7', 'PROPN': '#2391D7', 'NOUN': '#2391D7'}}\n",
    "    query = df['queries'][idx]\n",
    "    render(nlp(query), df, style=style, options=options, jupyter=True, idx=idx)"
   ]
  },
  {
   "cell_type": "code",
   "execution_count": 49,
   "metadata": {},
   "outputs": [
    {
     "data": {
      "text/plain": [
       "0    {'i': [271, 272, 'PRON'], 'appointment': [348,...\n",
       "1    {'time': [18, 22, 'NOUN'], 'i': [340, 341, 'PR...\n",
       "2    {'i': [243, 244, 'PRON'], 'appointment': [268,...\n",
       "3    {'pasadena': [7, 15, 'NOUN'], 'store': [16, 21...\n",
       "4    {'it': [189, 191, 'PRON'], 'pm': [25, 27, 'NOU...\n",
       "Name: entities, dtype: object"
      ]
     },
     "execution_count": 49,
     "metadata": {},
     "output_type": "execute_result"
    }
   ],
   "source": [
    "mini_entity_df.get('entities')"
   ]
  },
  {
   "cell_type": "code",
   "execution_count": 50,
   "metadata": {},
   "outputs": [
    {
     "name": "stdout",
     "output_type": "stream",
     "text": [
      "{'11/24': [60, 65, 'CARDINAL'], '1267154747': [82, 92, 'DATE']}\n",
      "{'text': \"i need to reschedule my appointment which was originally on 11/24 . order number  1267154747 . i was there for my appointment  my tires were not . the location was supposed to call me when the tires arrived which they never did . i 'd like to reschedule my appointment . i 'd also like some type of compensation for not only wasting my time on the appointment date but for the lack of follow up by the location .\", 'ents': [{'start': 60, 'end': 65, 'label': 'CARDINAL'}, {'start': 82, 'end': 92, 'label': 'DATE'}], 'title': None}\n"
     ]
    },
    {
     "data": {
      "text/html": [
       "<div class=\"entities\" style=\"line-height: 2.5\">i need to reschedule my appointment which was originally on \n",
       "<mark class=\"entity\" style=\"background: #e4e7d2; padding: 0.45em 0.6em; margin: 0 0.25em; line-height: 1; border-radius: 0.35em; box-decoration-break: clone; -webkit-box-decoration-break: clone\">\n",
       "    11/24\n",
       "    <span style=\"font-size: 0.8em; font-weight: bold; line-height: 1; border-radius: 0.35em; text-transform: uppercase; vertical-align: middle; margin-left: 0.5rem\">CARDINAL</span>\n",
       "</mark>\n",
       " . order number  \n",
       "<mark class=\"entity\" style=\"background: #bfe1d9; padding: 0.45em 0.6em; margin: 0 0.25em; line-height: 1; border-radius: 0.35em; box-decoration-break: clone; -webkit-box-decoration-break: clone\">\n",
       "    1267154747\n",
       "    <span style=\"font-size: 0.8em; font-weight: bold; line-height: 1; border-radius: 0.35em; text-transform: uppercase; vertical-align: middle; margin-left: 0.5rem\">DATE</span>\n",
       "</mark>\n",
       " . i was there for my appointment  my tires were not . the location was supposed to call me when the tires arrived which they never did . i 'd like to reschedule my appointment . i 'd also like some type of compensation for not only wasting my time on the appointment date but for the lack of follow up by the location .</div>"
      ],
      "text/plain": [
       "<IPython.core.display.HTML object>"
      ]
     },
     "metadata": {},
     "output_type": "display_data"
    }
   ],
   "source": [
    "mini_entity_df = entity_df[:5]\n",
    "query = mini_entity_df['queries'][0]\n",
    "print(extract_named_entities(query))\n",
    "show_entities(0, df=mini_entity_df)"
   ]
  },
  {
   "cell_type": "code",
   "execution_count": 51,
   "metadata": {},
   "outputs": [
    {
     "name": "stderr",
     "output_type": "stream",
     "text": [
      "/Users/sharma/miniconda3/envs/avaamo/lib/python3.6/site-packages/ipykernel_launcher.py:2: SettingWithCopyWarning: \n",
      "A value is trying to be set on a copy of a slice from a DataFrame.\n",
      "Try using .loc[row_indexer,col_indexer] = value instead\n",
      "\n",
      "See the caveats in the documentation: http://pandas.pydata.org/pandas-docs/stable/indexing.html#indexing-view-versus-copy\n",
      "  \n"
     ]
    }
   ],
   "source": [
    "def add_named_entities(df=entity_df):\n",
    "    df['named_entities'] = df['queries'].apply(extract_named_entities)\n",
    "add_named_entities(mini_entity_df)"
   ]
  },
  {
   "cell_type": "code",
   "execution_count": 52,
   "metadata": {},
   "outputs": [
    {
     "data": {
      "text/html": [
       "<div>\n",
       "<style scoped>\n",
       "    .dataframe tbody tr th:only-of-type {\n",
       "        vertical-align: middle;\n",
       "    }\n",
       "\n",
       "    .dataframe tbody tr th {\n",
       "        vertical-align: top;\n",
       "    }\n",
       "\n",
       "    .dataframe thead th {\n",
       "        text-align: right;\n",
       "    }\n",
       "</style>\n",
       "<table border=\"1\" class=\"dataframe\">\n",
       "  <thead>\n",
       "    <tr style=\"text-align: right;\">\n",
       "      <th></th>\n",
       "      <th>queries</th>\n",
       "      <th>named_entities</th>\n",
       "    </tr>\n",
       "  </thead>\n",
       "  <tbody>\n",
       "    <tr>\n",
       "      <th>0</th>\n",
       "      <td>i need to reschedule my appointment which was ...</td>\n",
       "      <td>{'11/24': [60, 65, 'CARDINAL'], '1267154747': ...</td>\n",
       "    </tr>\n",
       "    <tr>\n",
       "      <th>1</th>\n",
       "      <td>this is the third time i made an appointment w...</td>\n",
       "      <td>{'third': [12, 17, 'ORDINAL'], 'ny': [70, 72, ...</td>\n",
       "    </tr>\n",
       "    <tr>\n",
       "      <th>2</th>\n",
       "      <td>why if i make a appointment for 8 am do they t...</td>\n",
       "      <td>{'8': [32, 33, 'DATE'], '30': [159, 161, 'QUAN...</td>\n",
       "    </tr>\n",
       "    <tr>\n",
       "      <th>3</th>\n",
       "      <td>called pasadena store sunday am . asked how lo...</td>\n",
       "      <td>{'sunday': [22, 28, 'DATE'], 'am': [29, 31, 'T...</td>\n",
       "    </tr>\n",
       "    <tr>\n",
       "      <th>4</th>\n",
       "      <td>is it normal to have a 2 pm appointment for ti...</td>\n",
       "      <td>{'2 pm': [23, 27, 'TIME'], '2 hours': [203, 21...</td>\n",
       "    </tr>\n",
       "  </tbody>\n",
       "</table>\n",
       "</div>"
      ],
      "text/plain": [
       "                                             queries  \\\n",
       "0  i need to reschedule my appointment which was ...   \n",
       "1  this is the third time i made an appointment w...   \n",
       "2  why if i make a appointment for 8 am do they t...   \n",
       "3  called pasadena store sunday am . asked how lo...   \n",
       "4  is it normal to have a 2 pm appointment for ti...   \n",
       "\n",
       "                                      named_entities  \n",
       "0  {'11/24': [60, 65, 'CARDINAL'], '1267154747': ...  \n",
       "1  {'third': [12, 17, 'ORDINAL'], 'ny': [70, 72, ...  \n",
       "2  {'8': [32, 33, 'DATE'], '30': [159, 161, 'QUAN...  \n",
       "3  {'sunday': [22, 28, 'DATE'], 'am': [29, 31, 'T...  \n",
       "4  {'2 pm': [23, 27, 'TIME'], '2 hours': [203, 21...  "
      ]
     },
     "metadata": {},
     "output_type": "display_data"
    }
   ],
   "source": [
    "display(mini_entity_df)"
   ]
  },
  {
   "cell_type": "markdown",
   "metadata": {},
   "source": [
    "## Step 2: Extract all nouns"
   ]
  },
  {
   "cell_type": "code",
   "execution_count": 20,
   "metadata": {},
   "outputs": [],
   "source": [
    "??displacy"
   ]
  },
  {
   "cell_type": "code",
   "execution_count": 12,
   "metadata": {},
   "outputs": [],
   "source": [
    "??EntityRenderer"
   ]
  },
  {
   "cell_type": "code",
   "execution_count": 53,
   "metadata": {},
   "outputs": [],
   "source": [
    "def extract_nouns(query):\n",
    "    keep_pos = ['PRON', 'PROPN', 'NOUN']\n",
    "    return {tok.text: [tok.idx, tok.idx+len(tok.text), tok.pos_] for tok in nlp(query) if tok.pos_ in keep_pos}"
   ]
  },
  {
   "cell_type": "code",
   "execution_count": 54,
   "metadata": {},
   "outputs": [
    {
     "name": "stderr",
     "output_type": "stream",
     "text": [
      "/Users/sharma/miniconda3/envs/avaamo/lib/python3.6/site-packages/ipykernel_launcher.py:2: SettingWithCopyWarning: \n",
      "A value is trying to be set on a copy of a slice from a DataFrame.\n",
      "Try using .loc[row_indexer,col_indexer] = value instead\n",
      "\n",
      "See the caveats in the documentation: http://pandas.pydata.org/pandas-docs/stable/indexing.html#indexing-view-versus-copy\n",
      "  \n"
     ]
    }
   ],
   "source": [
    "def add_nouns(df=entity_df):\n",
    "    df['nouns'] = df['queries'].apply(extract_nouns)\n",
    "add_nouns(mini_entity_df)"
   ]
  },
  {
   "cell_type": "code",
   "execution_count": 55,
   "metadata": {},
   "outputs": [
    {
     "data": {
      "text/html": [
       "<div>\n",
       "<style scoped>\n",
       "    .dataframe tbody tr th:only-of-type {\n",
       "        vertical-align: middle;\n",
       "    }\n",
       "\n",
       "    .dataframe tbody tr th {\n",
       "        vertical-align: top;\n",
       "    }\n",
       "\n",
       "    .dataframe thead th {\n",
       "        text-align: right;\n",
       "    }\n",
       "</style>\n",
       "<table border=\"1\" class=\"dataframe\">\n",
       "  <thead>\n",
       "    <tr style=\"text-align: right;\">\n",
       "      <th></th>\n",
       "      <th>queries</th>\n",
       "      <th>named_entities</th>\n",
       "      <th>nouns</th>\n",
       "    </tr>\n",
       "  </thead>\n",
       "  <tbody>\n",
       "    <tr>\n",
       "      <th>0</th>\n",
       "      <td>i need to reschedule my appointment which was ...</td>\n",
       "      <td>{'11/24': [60, 65, 'CARDINAL'], '1267154747': ...</td>\n",
       "      <td>{'i': [271, 272, 'PRON'], 'appointment': [348,...</td>\n",
       "    </tr>\n",
       "    <tr>\n",
       "      <th>1</th>\n",
       "      <td>this is the third time i made an appointment w...</td>\n",
       "      <td>{'third': [12, 17, 'ORDINAL'], 'ny': [70, 72, ...</td>\n",
       "      <td>{'time': [18, 22, 'NOUN'], 'i': [340, 341, 'PR...</td>\n",
       "    </tr>\n",
       "    <tr>\n",
       "      <th>2</th>\n",
       "      <td>why if i make a appointment for 8 am do they t...</td>\n",
       "      <td>{'8': [32, 33, 'DATE'], '30': [159, 161, 'QUAN...</td>\n",
       "      <td>{'i': [243, 244, 'PRON'], 'appointment': [268,...</td>\n",
       "    </tr>\n",
       "    <tr>\n",
       "      <th>3</th>\n",
       "      <td>called pasadena store sunday am . asked how lo...</td>\n",
       "      <td>{'sunday': [22, 28, 'DATE'], 'am': [29, 31, 'T...</td>\n",
       "      <td>{'pasadena': [7, 15, 'NOUN'], 'store': [16, 21...</td>\n",
       "    </tr>\n",
       "    <tr>\n",
       "      <th>4</th>\n",
       "      <td>is it normal to have a 2 pm appointment for ti...</td>\n",
       "      <td>{'2 pm': [23, 27, 'TIME'], '2 hours': [203, 21...</td>\n",
       "      <td>{'it': [189, 191, 'PRON'], 'pm': [25, 27, 'NOU...</td>\n",
       "    </tr>\n",
       "  </tbody>\n",
       "</table>\n",
       "</div>"
      ],
      "text/plain": [
       "                                             queries  \\\n",
       "0  i need to reschedule my appointment which was ...   \n",
       "1  this is the third time i made an appointment w...   \n",
       "2  why if i make a appointment for 8 am do they t...   \n",
       "3  called pasadena store sunday am . asked how lo...   \n",
       "4  is it normal to have a 2 pm appointment for ti...   \n",
       "\n",
       "                                      named_entities  \\\n",
       "0  {'11/24': [60, 65, 'CARDINAL'], '1267154747': ...   \n",
       "1  {'third': [12, 17, 'ORDINAL'], 'ny': [70, 72, ...   \n",
       "2  {'8': [32, 33, 'DATE'], '30': [159, 161, 'QUAN...   \n",
       "3  {'sunday': [22, 28, 'DATE'], 'am': [29, 31, 'T...   \n",
       "4  {'2 pm': [23, 27, 'TIME'], '2 hours': [203, 21...   \n",
       "\n",
       "                                               nouns  \n",
       "0  {'i': [271, 272, 'PRON'], 'appointment': [348,...  \n",
       "1  {'time': [18, 22, 'NOUN'], 'i': [340, 341, 'PR...  \n",
       "2  {'i': [243, 244, 'PRON'], 'appointment': [268,...  \n",
       "3  {'pasadena': [7, 15, 'NOUN'], 'store': [16, 21...  \n",
       "4  {'it': [189, 191, 'PRON'], 'pm': [25, 27, 'NOU...  "
      ]
     },
     "metadata": {},
     "output_type": "display_data"
    }
   ],
   "source": [
    "display(mini_entity_df)"
   ]
  },
  {
   "cell_type": "code",
   "execution_count": 56,
   "metadata": {},
   "outputs": [],
   "source": [
    "def extract_entities(entity_series):\n",
    "    entities = entity_series['nouns']\n",
    "    for entity, metadata in entities.items():\n",
    "        try:\n",
    "            if entity_series['named_entities'][entity][0] == metadata[0]:\n",
    "                entities[entity] = entity_series['named_entities'][entity]\n",
    "        except KeyError:\n",
    "            continue\n",
    "    return entities"
   ]
  },
  {
   "cell_type": "code",
   "execution_count": 57,
   "metadata": {},
   "outputs": [
    {
     "name": "stderr",
     "output_type": "stream",
     "text": [
      "/Users/sharma/miniconda3/envs/avaamo/lib/python3.6/site-packages/ipykernel_launcher.py:2: SettingWithCopyWarning: \n",
      "A value is trying to be set on a copy of a slice from a DataFrame.\n",
      "Try using .loc[row_indexer,col_indexer] = value instead\n",
      "\n",
      "See the caveats in the documentation: http://pandas.pydata.org/pandas-docs/stable/indexing.html#indexing-view-versus-copy\n",
      "  \n"
     ]
    }
   ],
   "source": [
    "def add_entities(df=entity_df):\n",
    "    df['entities'] = df.apply(extract_entities, axis=1)\n",
    "add_entities(mini_entity_df)"
   ]
  },
  {
   "cell_type": "code",
   "execution_count": 58,
   "metadata": {},
   "outputs": [
    {
     "data": {
      "text/html": [
       "<div>\n",
       "<style scoped>\n",
       "    .dataframe tbody tr th:only-of-type {\n",
       "        vertical-align: middle;\n",
       "    }\n",
       "\n",
       "    .dataframe tbody tr th {\n",
       "        vertical-align: top;\n",
       "    }\n",
       "\n",
       "    .dataframe thead th {\n",
       "        text-align: right;\n",
       "    }\n",
       "</style>\n",
       "<table border=\"1\" class=\"dataframe\">\n",
       "  <thead>\n",
       "    <tr style=\"text-align: right;\">\n",
       "      <th></th>\n",
       "      <th>queries</th>\n",
       "      <th>named_entities</th>\n",
       "      <th>nouns</th>\n",
       "      <th>entities</th>\n",
       "    </tr>\n",
       "  </thead>\n",
       "  <tbody>\n",
       "    <tr>\n",
       "      <th>0</th>\n",
       "      <td>i need to reschedule my appointment which was ...</td>\n",
       "      <td>{'11/24': [60, 65, 'CARDINAL'], '1267154747': ...</td>\n",
       "      <td>{'i': [271, 272, 'PRON'], 'appointment': [348,...</td>\n",
       "      <td>{'i': [271, 272, 'PRON'], 'appointment': [348,...</td>\n",
       "    </tr>\n",
       "    <tr>\n",
       "      <th>1</th>\n",
       "      <td>this is the third time i made an appointment w...</td>\n",
       "      <td>{'third': [12, 17, 'ORDINAL'], 'ny': [70, 72, ...</td>\n",
       "      <td>{'time': [18, 22, 'NOUN'], 'i': [340, 341, 'PR...</td>\n",
       "      <td>{'time': [18, 22, 'NOUN'], 'i': [340, 341, 'PR...</td>\n",
       "    </tr>\n",
       "    <tr>\n",
       "      <th>2</th>\n",
       "      <td>why if i make a appointment for 8 am do they t...</td>\n",
       "      <td>{'8': [32, 33, 'DATE'], '30': [159, 161, 'QUAN...</td>\n",
       "      <td>{'i': [243, 244, 'PRON'], 'appointment': [268,...</td>\n",
       "      <td>{'i': [243, 244, 'PRON'], 'appointment': [268,...</td>\n",
       "    </tr>\n",
       "    <tr>\n",
       "      <th>3</th>\n",
       "      <td>called pasadena store sunday am . asked how lo...</td>\n",
       "      <td>{'sunday': [22, 28, 'DATE'], 'am': [29, 31, 'T...</td>\n",
       "      <td>{'pasadena': [7, 15, 'NOUN'], 'store': [16, 21...</td>\n",
       "      <td>{'pasadena': [7, 15, 'NOUN'], 'store': [16, 21...</td>\n",
       "    </tr>\n",
       "    <tr>\n",
       "      <th>4</th>\n",
       "      <td>is it normal to have a 2 pm appointment for ti...</td>\n",
       "      <td>{'2 pm': [23, 27, 'TIME'], '2 hours': [203, 21...</td>\n",
       "      <td>{'it': [189, 191, 'PRON'], 'pm': [25, 27, 'NOU...</td>\n",
       "      <td>{'it': [189, 191, 'PRON'], 'pm': [25, 27, 'NOU...</td>\n",
       "    </tr>\n",
       "  </tbody>\n",
       "</table>\n",
       "</div>"
      ],
      "text/plain": [
       "                                             queries  \\\n",
       "0  i need to reschedule my appointment which was ...   \n",
       "1  this is the third time i made an appointment w...   \n",
       "2  why if i make a appointment for 8 am do they t...   \n",
       "3  called pasadena store sunday am . asked how lo...   \n",
       "4  is it normal to have a 2 pm appointment for ti...   \n",
       "\n",
       "                                      named_entities  \\\n",
       "0  {'11/24': [60, 65, 'CARDINAL'], '1267154747': ...   \n",
       "1  {'third': [12, 17, 'ORDINAL'], 'ny': [70, 72, ...   \n",
       "2  {'8': [32, 33, 'DATE'], '30': [159, 161, 'QUAN...   \n",
       "3  {'sunday': [22, 28, 'DATE'], 'am': [29, 31, 'T...   \n",
       "4  {'2 pm': [23, 27, 'TIME'], '2 hours': [203, 21...   \n",
       "\n",
       "                                               nouns  \\\n",
       "0  {'i': [271, 272, 'PRON'], 'appointment': [348,...   \n",
       "1  {'time': [18, 22, 'NOUN'], 'i': [340, 341, 'PR...   \n",
       "2  {'i': [243, 244, 'PRON'], 'appointment': [268,...   \n",
       "3  {'pasadena': [7, 15, 'NOUN'], 'store': [16, 21...   \n",
       "4  {'it': [189, 191, 'PRON'], 'pm': [25, 27, 'NOU...   \n",
       "\n",
       "                                            entities  \n",
       "0  {'i': [271, 272, 'PRON'], 'appointment': [348,...  \n",
       "1  {'time': [18, 22, 'NOUN'], 'i': [340, 341, 'PR...  \n",
       "2  {'i': [243, 244, 'PRON'], 'appointment': [268,...  \n",
       "3  {'pasadena': [7, 15, 'NOUN'], 'store': [16, 21...  \n",
       "4  {'it': [189, 191, 'PRON'], 'pm': [25, 27, 'NOU...  "
      ]
     },
     "execution_count": 58,
     "metadata": {},
     "output_type": "execute_result"
    }
   ],
   "source": [
    "mini_entity_df"
   ]
  },
  {
   "cell_type": "code",
   "execution_count": 99,
   "metadata": {},
   "outputs": [
    {
     "data": {
      "text/html": [
       "<div class=\"entities\" style=\"line-height: 2.5\">this is the third \n",
       "<mark class=\"entity\" style=\"background: #ddd; padding: 0.45em 0.6em; margin: 0 0.25em; line-height: 1; border-radius: 0.35em; box-decoration-break: clone; -webkit-box-decoration-break: clone\">\n",
       "    time\n",
       "    <span style=\"font-size: 0.8em; font-weight: bold; line-height: 1; border-radius: 0.35em; text-transform: uppercase; vertical-align: middle; margin-left: 0.5rem\">NOUN</span>\n",
       "</mark>\n",
       " i made an appointment with acme corp patchogue ny over the internet only to drive down and be told i do n't have an appointment . even when i show confirmation in print and another email confirmation it is ignored . when i 'm told i have an hour wait even with an appointment and i leave  i get an email at home that \n",
       "<mark class=\"entity\" style=\"background: #ddd; padding: 0.45em 0.6em; margin: 0 0.25em; line-height: 1; border-radius: 0.35em; box-decoration-break: clone; -webkit-box-decoration-break: clone\">\n",
       "    i\n",
       "    <span style=\"font-size: 0.8em; font-weight: bold; line-height: 1; border-radius: 0.35em; text-transform: uppercase; vertical-align: middle; margin-left: 0.5rem\">PRON</span>\n",
       "</mark>\n",
       " cancelled service . three strikes and your out . order # 1286793129 12/29/17 11:00am \n",
       "<mark class=\"entity\" style=\"background: #ddd; padding: 0.45em 0.6em; margin: 0 0.25em; line-height: 1; border-radius: 0.35em; box-decoration-break: clone; -webkit-box-decoration-break: clone\">\n",
       "    appointment\n",
       "    <span style=\"font-size: 0.8em; font-weight: bold; line-height: 1; border-radius: 0.35em; text-transform: uppercase; vertical-align: middle; margin-left: 0.5rem\">NOUN</span>\n",
       "</mark>\n",
       "\n",
       "<mark class=\"entity\" style=\"background: #ddd; padding: 0.45em 0.6em; margin: 0 0.25em; line-height: 1; border-radius: 0.35em; box-decoration-break: clone; -webkit-box-decoration-break: clone\">\n",
       "    acme\n",
       "    <span style=\"font-size: 0.8em; font-weight: bold; line-height: 1; border-radius: 0.35em; text-transform: uppercase; vertical-align: middle; margin-left: 0.5rem\">NOUN</span>\n",
       "</mark>\n",
       " \n",
       "<mark class=\"entity\" style=\"background: #ddd; padding: 0.45em 0.6em; margin: 0 0.25em; line-height: 1; border-radius: 0.35em; box-decoration-break: clone; -webkit-box-decoration-break: clone\">\n",
       "    corp\n",
       "    <span style=\"font-size: 0.8em; font-weight: bold; line-height: 1; border-radius: 0.35em; text-transform: uppercase; vertical-align: middle; margin-left: 0.5rem\">NOUN</span>\n",
       "</mark>\n",
       " \n",
       "<mark class=\"entity\" style=\"background: #ddd; padding: 0.45em 0.6em; margin: 0 0.25em; line-height: 1; border-radius: 0.35em; box-decoration-break: clone; -webkit-box-decoration-break: clone\">\n",
       "    patchogue\n",
       "    <span style=\"font-size: 0.8em; font-weight: bold; line-height: 1; border-radius: 0.35em; text-transform: uppercase; vertical-align: middle; margin-left: 0.5rem\">NOUN</span>\n",
       "</mark>\n",
       " \n",
       "<mark class=\"entity\" style=\"background: #feca74; padding: 0.45em 0.6em; margin: 0 0.25em; line-height: 1; border-radius: 0.35em; box-decoration-break: clone; -webkit-box-decoration-break: clone\">\n",
       "    ny\n",
       "    <span style=\"font-size: 0.8em; font-weight: bold; line-height: 1; border-radius: 0.35em; text-transform: uppercase; vertical-align: middle; margin-left: 0.5rem\">GPE</span>\n",
       "</mark>\n",
       " over the \n",
       "<mark class=\"entity\" style=\"background: #ddd; padding: 0.45em 0.6em; margin: 0 0.25em; line-height: 1; border-radius: 0.35em; box-decoration-break: clone; -webkit-box-decoration-break: clone\">\n",
       "    internet\n",
       "    <span style=\"font-size: 0.8em; font-weight: bold; line-height: 1; border-radius: 0.35em; text-transform: uppercase; vertical-align: middle; margin-left: 0.5rem\">NOUN</span>\n",
       "</mark>\n",
       " only to drive down and be told i do n't have an appointment . even when i show confirmation in print and another email \n",
       "<mark class=\"entity\" style=\"background: #ddd; padding: 0.45em 0.6em; margin: 0 0.25em; line-height: 1; border-radius: 0.35em; box-decoration-break: clone; -webkit-box-decoration-break: clone\">\n",
       "    confirmation\n",
       "    <span style=\"font-size: 0.8em; font-weight: bold; line-height: 1; border-radius: 0.35em; text-transform: uppercase; vertical-align: middle; margin-left: 0.5rem\">NOUN</span>\n",
       "</mark>\n",
       "\n",
       "<mark class=\"entity\" style=\"background: #ddd; padding: 0.45em 0.6em; margin: 0 0.25em; line-height: 1; border-radius: 0.35em; box-decoration-break: clone; -webkit-box-decoration-break: clone\">\n",
       "    print\n",
       "    <span style=\"font-size: 0.8em; font-weight: bold; line-height: 1; border-radius: 0.35em; text-transform: uppercase; vertical-align: middle; margin-left: 0.5rem\">NOUN</span>\n",
       "</mark>\n",
       " and another email confirmation it is ignored . when i 'm told i have an hour wait even with an appointment and i leave  i get an \n",
       "<mark class=\"entity\" style=\"background: #ddd; padding: 0.45em 0.6em; margin: 0 0.25em; line-height: 1; border-radius: 0.35em; box-decoration-break: clone; -webkit-box-decoration-break: clone\">\n",
       "    email\n",
       "    <span style=\"font-size: 0.8em; font-weight: bold; line-height: 1; border-radius: 0.35em; text-transform: uppercase; vertical-align: middle; margin-left: 0.5rem\">NOUN</span>\n",
       "</mark>\n",
       "\n",
       "<mark class=\"entity\" style=\"background: #ddd; padding: 0.45em 0.6em; margin: 0 0.25em; line-height: 1; border-radius: 0.35em; box-decoration-break: clone; -webkit-box-decoration-break: clone\">\n",
       "    it\n",
       "    <span style=\"font-size: 0.8em; font-weight: bold; line-height: 1; border-radius: 0.35em; text-transform: uppercase; vertical-align: middle; margin-left: 0.5rem\">PRON</span>\n",
       "</mark>\n",
       " is ignored . when i '\n",
       "<mark class=\"entity\" style=\"background: #ddd; padding: 0.45em 0.6em; margin: 0 0.25em; line-height: 1; border-radius: 0.35em; box-decoration-break: clone; -webkit-box-decoration-break: clone\">\n",
       "    m\n",
       "    <span style=\"font-size: 0.8em; font-weight: bold; line-height: 1; border-radius: 0.35em; text-transform: uppercase; vertical-align: middle; margin-left: 0.5rem\">NOUN</span>\n",
       "</mark>\n",
       " told i have an \n",
       "<mark class=\"entity\" style=\"background: #ddd; padding: 0.45em 0.6em; margin: 0 0.25em; line-height: 1; border-radius: 0.35em; box-decoration-break: clone; -webkit-box-decoration-break: clone\">\n",
       "    hour\n",
       "    <span style=\"font-size: 0.8em; font-weight: bold; line-height: 1; border-radius: 0.35em; text-transform: uppercase; vertical-align: middle; margin-left: 0.5rem\">NOUN</span>\n",
       "</mark>\n",
       " wait even with an appointment and i leave  i get an email at \n",
       "<mark class=\"entity\" style=\"background: #ddd; padding: 0.45em 0.6em; margin: 0 0.25em; line-height: 1; border-radius: 0.35em; box-decoration-break: clone; -webkit-box-decoration-break: clone\">\n",
       "    home\n",
       "    <span style=\"font-size: 0.8em; font-weight: bold; line-height: 1; border-radius: 0.35em; text-transform: uppercase; vertical-align: middle; margin-left: 0.5rem\">NOUN</span>\n",
       "</mark>\n",
       " that i cancelled \n",
       "<mark class=\"entity\" style=\"background: #ddd; padding: 0.45em 0.6em; margin: 0 0.25em; line-height: 1; border-radius: 0.35em; box-decoration-break: clone; -webkit-box-decoration-break: clone\">\n",
       "    service\n",
       "    <span style=\"font-size: 0.8em; font-weight: bold; line-height: 1; border-radius: 0.35em; text-transform: uppercase; vertical-align: middle; margin-left: 0.5rem\">NOUN</span>\n",
       "</mark>\n",
       " . three \n",
       "<mark class=\"entity\" style=\"background: #ddd; padding: 0.45em 0.6em; margin: 0 0.25em; line-height: 1; border-radius: 0.35em; box-decoration-break: clone; -webkit-box-decoration-break: clone\">\n",
       "    strikes\n",
       "    <span style=\"font-size: 0.8em; font-weight: bold; line-height: 1; border-radius: 0.35em; text-transform: uppercase; vertical-align: middle; margin-left: 0.5rem\">NOUN</span>\n",
       "</mark>\n",
       " and your \n",
       "<mark class=\"entity\" style=\"background: #ddd; padding: 0.45em 0.6em; margin: 0 0.25em; line-height: 1; border-radius: 0.35em; box-decoration-break: clone; -webkit-box-decoration-break: clone\">\n",
       "    out\n",
       "    <span style=\"font-size: 0.8em; font-weight: bold; line-height: 1; border-radius: 0.35em; text-transform: uppercase; vertical-align: middle; margin-left: 0.5rem\">NOUN</span>\n",
       "</mark>\n",
       " . order # 1286793129 12/29/17 11:00am appointment .</div>"
      ],
      "text/plain": [
       "<IPython.core.display.HTML object>"
      ]
     },
     "metadata": {},
     "output_type": "display_data"
    }
   ],
   "source": [
    "show_entities(1, df=mini_entity_df)"
   ]
  },
  {
   "cell_type": "code",
   "execution_count": 89,
   "metadata": {},
   "outputs": [
    {
     "data": {
      "text/plain": [
       "{'11/24': [60, 65, 'CARDINAL'], '1267154747': [82, 92, 'DATE']}"
      ]
     },
     "execution_count": 89,
     "metadata": {},
     "output_type": "execute_result"
    }
   ],
   "source": [
    "mini_entity_df['named_entities'][0]"
   ]
  },
  {
   "cell_type": "code",
   "execution_count": 91,
   "metadata": {},
   "outputs": [
    {
     "data": {
      "text/plain": [
       "{'i': [271, 272, 'PRON'],\n",
       " 'appointment': [348, 359, 'NOUN'],\n",
       " 'order': [68, 73, 'NOUN'],\n",
       " 'number': [74, 80, 'NOUN'],\n",
       " 'tires': [193, 198, 'NOUN'],\n",
       " 'location': [402, 410, 'NOUN'],\n",
       " 'me': [181, 183, 'PRON'],\n",
       " 'they': [213, 217, 'PRON'],\n",
       " 'type': [291, 295, 'NOUN'],\n",
       " 'compensation': [299, 311, 'NOUN'],\n",
       " 'time': [336, 340, 'NOUN'],\n",
       " 'date': [360, 364, 'NOUN'],\n",
       " 'lack': [377, 381, 'NOUN'],\n",
       " 'follow': [385, 391, 'NOUN']}"
      ]
     },
     "execution_count": 91,
     "metadata": {},
     "output_type": "execute_result"
    }
   ],
   "source": [
    "mini_entity_df['entities'][0]"
   ]
  },
  {
   "cell_type": "code",
   "execution_count": null,
   "metadata": {},
   "outputs": [],
   "source": []
  }
 ],
 "metadata": {
  "kernelspec": {
   "display_name": "Python 3",
   "language": "python",
   "name": "python3"
  },
  "language_info": {
   "codemirror_mode": {
    "name": "ipython",
    "version": 3
   },
   "file_extension": ".py",
   "mimetype": "text/x-python",
   "name": "python",
   "nbconvert_exporter": "python",
   "pygments_lexer": "ipython3",
   "version": "3.6.5"
  }
 },
 "nbformat": 4,
 "nbformat_minor": 2
}
